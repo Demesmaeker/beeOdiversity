{
 "cells": [
  {
   "cell_type": "markdown",
   "metadata": {},
   "source": [
    "# Preprocessing"
   ]
  },
  {
   "cell_type": "code",
   "execution_count": 1,
   "metadata": {},
   "outputs": [],
   "source": [
    "import pandas as pd\n",
    "import numpy as np"
   ]
  },
  {
   "cell_type": "code",
   "execution_count": 2,
   "metadata": {},
   "outputs": [],
   "source": [
    "from functions import *"
   ]
  },
  {
   "cell_type": "markdown",
   "metadata": {},
   "source": [
    "### Import the datasets"
   ]
  },
  {
   "cell_type": "code",
   "execution_count": 3,
   "metadata": {},
   "outputs": [],
   "source": [
    "# Open the raw datasets\n",
    "# Heavy Metal\n",
    "hm_df = pd.read_excel('data/AllHMFiles.xlsx', engine='openpyxl').fillna(0.0)\n",
    "\n",
    "# Pesticides\n",
    "pesticides_df = pd.read_excel('data/AllPesticidesFiles.xlsx', engine='openpyxl').fillna(0.0)\n",
    "classe_pesticides_df = pd.read_excel('data/pesticides.xlsx', engine='openpyxl')\n",
    "\n",
    "# Surfaces\n",
    "surfaces_df = pd.read_excel('data/absSurfs.xlsx', engine='openpyxl')\n",
    "\n",
    "# Distances\n",
    "distances_df = pd.read_excel('data/distsOneSheet.xlsx', engine='openpyxl')"
   ]
  },
  {
   "cell_type": "code",
   "execution_count": 4,
   "metadata": {},
   "outputs": [
    {
     "data": {
      "text/html": [
       "<div>\n",
       "<style scoped>\n",
       "    .dataframe tbody tr th:only-of-type {\n",
       "        vertical-align: middle;\n",
       "    }\n",
       "\n",
       "    .dataframe tbody tr th {\n",
       "        vertical-align: top;\n",
       "    }\n",
       "\n",
       "    .dataframe thead th {\n",
       "        text-align: right;\n",
       "    }\n",
       "</style>\n",
       "<table border=\"1\" class=\"dataframe\">\n",
       "  <thead>\n",
       "    <tr style=\"text-align: right;\">\n",
       "      <th></th>\n",
       "      <th>REF....SUBSTANCE</th>\n",
       "      <th>PERIOD</th>\n",
       "      <th>Lead</th>\n",
       "      <th>Cadmium</th>\n",
       "      <th>Arsenic</th>\n",
       "      <th>Mercury</th>\n",
       "      <th>Copper</th>\n",
       "      <th>Chromium</th>\n",
       "      <th>Zinc</th>\n",
       "      <th>Chrome</th>\n",
       "    </tr>\n",
       "  </thead>\n",
       "  <tbody>\n",
       "    <tr>\n",
       "      <th>0</th>\n",
       "      <td>B0017</td>\n",
       "      <td>2017/P1</td>\n",
       "      <td>0.081</td>\n",
       "      <td>0.81</td>\n",
       "      <td>0.0</td>\n",
       "      <td>0.0</td>\n",
       "      <td>5.5</td>\n",
       "      <td>0.032</td>\n",
       "      <td>40</td>\n",
       "      <td>0.0</td>\n",
       "    </tr>\n",
       "    <tr>\n",
       "      <th>1</th>\n",
       "      <td>B0019</td>\n",
       "      <td>2017/P1</td>\n",
       "      <td>0.062</td>\n",
       "      <td>0.36</td>\n",
       "      <td>0.0</td>\n",
       "      <td>0.0</td>\n",
       "      <td>8.5</td>\n",
       "      <td>0.029</td>\n",
       "      <td>33</td>\n",
       "      <td>0.0</td>\n",
       "    </tr>\n",
       "    <tr>\n",
       "      <th>2</th>\n",
       "      <td>B0021</td>\n",
       "      <td>2017/P1</td>\n",
       "      <td>0.150</td>\n",
       "      <td>0.61</td>\n",
       "      <td>0.0</td>\n",
       "      <td>0.0</td>\n",
       "      <td>7.0</td>\n",
       "      <td>0.038</td>\n",
       "      <td>37</td>\n",
       "      <td>0.0</td>\n",
       "    </tr>\n",
       "    <tr>\n",
       "      <th>3</th>\n",
       "      <td>B0023</td>\n",
       "      <td>2017/P1</td>\n",
       "      <td>0.067</td>\n",
       "      <td>0.35</td>\n",
       "      <td>0.0</td>\n",
       "      <td>0.0</td>\n",
       "      <td>6.9</td>\n",
       "      <td>0.031</td>\n",
       "      <td>37</td>\n",
       "      <td>0.0</td>\n",
       "    </tr>\n",
       "    <tr>\n",
       "      <th>4</th>\n",
       "      <td>B0037</td>\n",
       "      <td>2017/P1</td>\n",
       "      <td>0.120</td>\n",
       "      <td>0.07</td>\n",
       "      <td>0.0</td>\n",
       "      <td>0.0</td>\n",
       "      <td>5.6</td>\n",
       "      <td>0.052</td>\n",
       "      <td>35</td>\n",
       "      <td>0.0</td>\n",
       "    </tr>\n",
       "  </tbody>\n",
       "</table>\n",
       "</div>"
      ],
      "text/plain": [
       "  REF....SUBSTANCE   PERIOD   Lead  Cadmium  Arsenic  Mercury  Copper  \\\n",
       "0            B0017  2017/P1  0.081     0.81      0.0      0.0     5.5   \n",
       "1            B0019  2017/P1  0.062     0.36      0.0      0.0     8.5   \n",
       "2            B0021  2017/P1  0.150     0.61      0.0      0.0     7.0   \n",
       "3            B0023  2017/P1  0.067     0.35      0.0      0.0     6.9   \n",
       "4            B0037  2017/P1  0.120     0.07      0.0      0.0     5.6   \n",
       "\n",
       "   Chromium  Zinc  Chrome  \n",
       "0     0.032    40     0.0  \n",
       "1     0.029    33     0.0  \n",
       "2     0.038    37     0.0  \n",
       "3     0.031    37     0.0  \n",
       "4     0.052    35     0.0  "
      ]
     },
     "execution_count": 4,
     "metadata": {},
     "output_type": "execute_result"
    }
   ],
   "source": [
    "hm_df.head(5)"
   ]
  },
  {
   "cell_type": "code",
   "execution_count": 5,
   "metadata": {},
   "outputs": [
    {
     "data": {
      "text/html": [
       "<div>\n",
       "<style scoped>\n",
       "    .dataframe tbody tr th:only-of-type {\n",
       "        vertical-align: middle;\n",
       "    }\n",
       "\n",
       "    .dataframe tbody tr th {\n",
       "        vertical-align: top;\n",
       "    }\n",
       "\n",
       "    .dataframe thead th {\n",
       "        text-align: right;\n",
       "    }\n",
       "</style>\n",
       "<table border=\"1\" class=\"dataframe\">\n",
       "  <thead>\n",
       "    <tr style=\"text-align: right;\">\n",
       "      <th></th>\n",
       "      <th>REF....SUBSTANCE</th>\n",
       "      <th>PERIOD</th>\n",
       "      <th>Aldrin</th>\n",
       "      <th>Benalaxyl</th>\n",
       "      <th>Chlorpropham</th>\n",
       "      <th>Cyanofenphos</th>\n",
       "      <th>Cypermethrin</th>\n",
       "      <th>Ethofumesate</th>\n",
       "      <th>Fludioxonil</th>\n",
       "      <th>Fluopyram</th>\n",
       "      <th>...</th>\n",
       "      <th>Nicosulfuron</th>\n",
       "      <th>Piperonylbutoxide</th>\n",
       "      <th>Prosulfuron</th>\n",
       "      <th>Simazine</th>\n",
       "      <th>Terbuthylazine</th>\n",
       "      <th>Dieldrin</th>\n",
       "      <th>Fenamidone</th>\n",
       "      <th>Trifluralin</th>\n",
       "      <th>Cycloate</th>\n",
       "      <th>Pentachloroanisol</th>\n",
       "    </tr>\n",
       "  </thead>\n",
       "  <tbody>\n",
       "    <tr>\n",
       "      <th>0</th>\n",
       "      <td>B0017</td>\n",
       "      <td>2017/P1</td>\n",
       "      <td>0.0</td>\n",
       "      <td>0.0000</td>\n",
       "      <td>0.00</td>\n",
       "      <td>0.0</td>\n",
       "      <td>0.0</td>\n",
       "      <td>0.0</td>\n",
       "      <td>0.0</td>\n",
       "      <td>0.0</td>\n",
       "      <td>...</td>\n",
       "      <td>0.0</td>\n",
       "      <td>0.0</td>\n",
       "      <td>0.0</td>\n",
       "      <td>0.0</td>\n",
       "      <td>0.0</td>\n",
       "      <td>0.0</td>\n",
       "      <td>0.0</td>\n",
       "      <td>0.0</td>\n",
       "      <td>0.0</td>\n",
       "      <td>0.0</td>\n",
       "    </tr>\n",
       "    <tr>\n",
       "      <th>1</th>\n",
       "      <td>B0019</td>\n",
       "      <td>2017/P1</td>\n",
       "      <td>0.0</td>\n",
       "      <td>0.0188</td>\n",
       "      <td>0.00</td>\n",
       "      <td>0.0</td>\n",
       "      <td>0.0</td>\n",
       "      <td>0.0</td>\n",
       "      <td>0.0</td>\n",
       "      <td>0.0</td>\n",
       "      <td>...</td>\n",
       "      <td>0.0</td>\n",
       "      <td>0.0</td>\n",
       "      <td>0.0</td>\n",
       "      <td>0.0</td>\n",
       "      <td>0.0</td>\n",
       "      <td>0.0</td>\n",
       "      <td>0.0</td>\n",
       "      <td>0.0</td>\n",
       "      <td>0.0</td>\n",
       "      <td>0.0</td>\n",
       "    </tr>\n",
       "    <tr>\n",
       "      <th>2</th>\n",
       "      <td>B0021</td>\n",
       "      <td>2017/P1</td>\n",
       "      <td>0.0</td>\n",
       "      <td>0.0711</td>\n",
       "      <td>0.00</td>\n",
       "      <td>0.0</td>\n",
       "      <td>0.0</td>\n",
       "      <td>0.0</td>\n",
       "      <td>0.0</td>\n",
       "      <td>0.0</td>\n",
       "      <td>...</td>\n",
       "      <td>0.0</td>\n",
       "      <td>0.0</td>\n",
       "      <td>0.0</td>\n",
       "      <td>0.0</td>\n",
       "      <td>0.0</td>\n",
       "      <td>0.0</td>\n",
       "      <td>0.0</td>\n",
       "      <td>0.0</td>\n",
       "      <td>0.0</td>\n",
       "      <td>0.0</td>\n",
       "    </tr>\n",
       "    <tr>\n",
       "      <th>3</th>\n",
       "      <td>B0023</td>\n",
       "      <td>2017/P1</td>\n",
       "      <td>0.0</td>\n",
       "      <td>0.0294</td>\n",
       "      <td>0.00</td>\n",
       "      <td>0.0</td>\n",
       "      <td>0.0</td>\n",
       "      <td>0.0</td>\n",
       "      <td>0.0</td>\n",
       "      <td>0.0</td>\n",
       "      <td>...</td>\n",
       "      <td>0.0</td>\n",
       "      <td>0.0</td>\n",
       "      <td>0.0</td>\n",
       "      <td>0.0</td>\n",
       "      <td>0.0</td>\n",
       "      <td>0.0</td>\n",
       "      <td>0.0</td>\n",
       "      <td>0.0</td>\n",
       "      <td>0.0</td>\n",
       "      <td>0.0</td>\n",
       "    </tr>\n",
       "    <tr>\n",
       "      <th>4</th>\n",
       "      <td>B0037</td>\n",
       "      <td>2017/P1</td>\n",
       "      <td>0.0</td>\n",
       "      <td>0.0000</td>\n",
       "      <td>0.01</td>\n",
       "      <td>0.0</td>\n",
       "      <td>0.0</td>\n",
       "      <td>0.0</td>\n",
       "      <td>0.0</td>\n",
       "      <td>0.0</td>\n",
       "      <td>...</td>\n",
       "      <td>0.0</td>\n",
       "      <td>0.0</td>\n",
       "      <td>0.0</td>\n",
       "      <td>0.0</td>\n",
       "      <td>0.0</td>\n",
       "      <td>0.0</td>\n",
       "      <td>0.0</td>\n",
       "      <td>0.0</td>\n",
       "      <td>0.0</td>\n",
       "      <td>0.0</td>\n",
       "    </tr>\n",
       "  </tbody>\n",
       "</table>\n",
       "<p>5 rows × 117 columns</p>\n",
       "</div>"
      ],
      "text/plain": [
       "  REF....SUBSTANCE   PERIOD  Aldrin  Benalaxyl  Chlorpropham  Cyanofenphos  \\\n",
       "0            B0017  2017/P1     0.0     0.0000          0.00           0.0   \n",
       "1            B0019  2017/P1     0.0     0.0188          0.00           0.0   \n",
       "2            B0021  2017/P1     0.0     0.0711          0.00           0.0   \n",
       "3            B0023  2017/P1     0.0     0.0294          0.00           0.0   \n",
       "4            B0037  2017/P1     0.0     0.0000          0.01           0.0   \n",
       "\n",
       "   Cypermethrin  Ethofumesate  Fludioxonil  Fluopyram  ...  Nicosulfuron  \\\n",
       "0           0.0           0.0          0.0        0.0  ...           0.0   \n",
       "1           0.0           0.0          0.0        0.0  ...           0.0   \n",
       "2           0.0           0.0          0.0        0.0  ...           0.0   \n",
       "3           0.0           0.0          0.0        0.0  ...           0.0   \n",
       "4           0.0           0.0          0.0        0.0  ...           0.0   \n",
       "\n",
       "   Piperonylbutoxide  Prosulfuron  Simazine  Terbuthylazine  Dieldrin  \\\n",
       "0                0.0          0.0       0.0             0.0       0.0   \n",
       "1                0.0          0.0       0.0             0.0       0.0   \n",
       "2                0.0          0.0       0.0             0.0       0.0   \n",
       "3                0.0          0.0       0.0             0.0       0.0   \n",
       "4                0.0          0.0       0.0             0.0       0.0   \n",
       "\n",
       "   Fenamidone  Trifluralin  Cycloate  Pentachloroanisol  \n",
       "0         0.0          0.0       0.0                0.0  \n",
       "1         0.0          0.0       0.0                0.0  \n",
       "2         0.0          0.0       0.0                0.0  \n",
       "3         0.0          0.0       0.0                0.0  \n",
       "4         0.0          0.0       0.0                0.0  \n",
       "\n",
       "[5 rows x 117 columns]"
      ]
     },
     "execution_count": 5,
     "metadata": {},
     "output_type": "execute_result"
    }
   ],
   "source": [
    "pesticides_df.head(5)"
   ]
  },
  {
   "cell_type": "code",
   "execution_count": 6,
   "metadata": {},
   "outputs": [
    {
     "data": {
      "text/html": [
       "<div>\n",
       "<style scoped>\n",
       "    .dataframe tbody tr th:only-of-type {\n",
       "        vertical-align: middle;\n",
       "    }\n",
       "\n",
       "    .dataframe tbody tr th {\n",
       "        vertical-align: top;\n",
       "    }\n",
       "\n",
       "    .dataframe thead th {\n",
       "        text-align: right;\n",
       "    }\n",
       "</style>\n",
       "<table border=\"1\" class=\"dataframe\">\n",
       "  <thead>\n",
       "    <tr style=\"text-align: right;\">\n",
       "      <th></th>\n",
       "      <th>importName</th>\n",
       "      <th>name</th>\n",
       "      <th>statusEN</th>\n",
       "      <th>LMR</th>\n",
       "      <th>familyEN</th>\n",
       "      <th>typeEN</th>\n",
       "    </tr>\n",
       "  </thead>\n",
       "  <tbody>\n",
       "    <tr>\n",
       "      <th>0</th>\n",
       "      <td>Aclonifen</td>\n",
       "      <td>aclonifen</td>\n",
       "      <td>authorized</td>\n",
       "      <td>0.05</td>\n",
       "      <td>diphenyl ether</td>\n",
       "      <td>herbicide</td>\n",
       "    </tr>\n",
       "    <tr>\n",
       "      <th>1</th>\n",
       "      <td>Aldrin</td>\n",
       "      <td>aldrin</td>\n",
       "      <td>prohibited</td>\n",
       "      <td>0.01</td>\n",
       "      <td>organochlorine</td>\n",
       "      <td>insecticide</td>\n",
       "    </tr>\n",
       "    <tr>\n",
       "      <th>2</th>\n",
       "      <td>Ametoctradin</td>\n",
       "      <td>ametoctradin</td>\n",
       "      <td>authorized</td>\n",
       "      <td>0.05</td>\n",
       "      <td>triazolopyrimidine</td>\n",
       "      <td>fungicide</td>\n",
       "    </tr>\n",
       "    <tr>\n",
       "      <th>3</th>\n",
       "      <td>Anthraquinone</td>\n",
       "      <td>anthraquinone</td>\n",
       "      <td>prohibited</td>\n",
       "      <td>0.02</td>\n",
       "      <td>polycyclic aromatic hydrocarbon</td>\n",
       "      <td>bird repellant</td>\n",
       "    </tr>\n",
       "    <tr>\n",
       "      <th>4</th>\n",
       "      <td>Azoxystrobin</td>\n",
       "      <td>azoxystrobin</td>\n",
       "      <td>authorized</td>\n",
       "      <td>0.05</td>\n",
       "      <td>strobilurin</td>\n",
       "      <td>fungicide</td>\n",
       "    </tr>\n",
       "  </tbody>\n",
       "</table>\n",
       "</div>"
      ],
      "text/plain": [
       "      importName           name    statusEN   LMR  \\\n",
       "0      Aclonifen      aclonifen  authorized  0.05   \n",
       "1         Aldrin         aldrin  prohibited  0.01   \n",
       "2   Ametoctradin   ametoctradin  authorized  0.05   \n",
       "3  Anthraquinone  anthraquinone  prohibited  0.02   \n",
       "4   Azoxystrobin   azoxystrobin  authorized  0.05   \n",
       "\n",
       "                          familyEN          typeEN  \n",
       "0                   diphenyl ether       herbicide  \n",
       "1                   organochlorine     insecticide  \n",
       "2               triazolopyrimidine       fungicide  \n",
       "3  polycyclic aromatic hydrocarbon  bird repellant  \n",
       "4                      strobilurin       fungicide  "
      ]
     },
     "execution_count": 6,
     "metadata": {},
     "output_type": "execute_result"
    }
   ],
   "source": [
    "classe_pesticides_df.head(5)"
   ]
  },
  {
   "cell_type": "code",
   "execution_count": 7,
   "metadata": {},
   "outputs": [
    {
     "data": {
      "text/html": [
       "<div>\n",
       "<style scoped>\n",
       "    .dataframe tbody tr th:only-of-type {\n",
       "        vertical-align: middle;\n",
       "    }\n",
       "\n",
       "    .dataframe tbody tr th {\n",
       "        vertical-align: top;\n",
       "    }\n",
       "\n",
       "    .dataframe thead th {\n",
       "        text-align: right;\n",
       "    }\n",
       "</style>\n",
       "<table border=\"1\" class=\"dataframe\">\n",
       "  <thead>\n",
       "    <tr style=\"text-align: right;\">\n",
       "      <th></th>\n",
       "      <th>Site</th>\n",
       "      <th>111</th>\n",
       "      <th>112</th>\n",
       "      <th>121</th>\n",
       "      <th>122</th>\n",
       "      <th>123</th>\n",
       "      <th>124</th>\n",
       "      <th>131</th>\n",
       "      <th>132</th>\n",
       "      <th>133</th>\n",
       "      <th>...</th>\n",
       "      <th>411</th>\n",
       "      <th>412</th>\n",
       "      <th>421</th>\n",
       "      <th>422</th>\n",
       "      <th>423</th>\n",
       "      <th>511</th>\n",
       "      <th>512</th>\n",
       "      <th>521</th>\n",
       "      <th>522</th>\n",
       "      <th>523</th>\n",
       "    </tr>\n",
       "  </thead>\n",
       "  <tbody>\n",
       "    <tr>\n",
       "      <th>0</th>\n",
       "      <td>F0069</td>\n",
       "      <td>0.0</td>\n",
       "      <td>1.064122e+06</td>\n",
       "      <td>3.587087e+05</td>\n",
       "      <td>0.000000</td>\n",
       "      <td>0.0</td>\n",
       "      <td>0.0</td>\n",
       "      <td>0.0</td>\n",
       "      <td>0</td>\n",
       "      <td>0.0</td>\n",
       "      <td>...</td>\n",
       "      <td>0</td>\n",
       "      <td>0.0</td>\n",
       "      <td>0</td>\n",
       "      <td>0</td>\n",
       "      <td>0.0</td>\n",
       "      <td>0.0</td>\n",
       "      <td>0.000000</td>\n",
       "      <td>0</td>\n",
       "      <td>0</td>\n",
       "      <td>0.0</td>\n",
       "    </tr>\n",
       "    <tr>\n",
       "      <th>1</th>\n",
       "      <td>F0025</td>\n",
       "      <td>0.0</td>\n",
       "      <td>0.000000e+00</td>\n",
       "      <td>0.000000e+00</td>\n",
       "      <td>412752.692383</td>\n",
       "      <td>0.0</td>\n",
       "      <td>0.0</td>\n",
       "      <td>0.0</td>\n",
       "      <td>0</td>\n",
       "      <td>0.0</td>\n",
       "      <td>...</td>\n",
       "      <td>0</td>\n",
       "      <td>0.0</td>\n",
       "      <td>0</td>\n",
       "      <td>0</td>\n",
       "      <td>0.0</td>\n",
       "      <td>0.0</td>\n",
       "      <td>0.000000</td>\n",
       "      <td>0</td>\n",
       "      <td>0</td>\n",
       "      <td>0.0</td>\n",
       "    </tr>\n",
       "    <tr>\n",
       "      <th>2</th>\n",
       "      <td>F0027</td>\n",
       "      <td>0.0</td>\n",
       "      <td>2.741746e+05</td>\n",
       "      <td>0.000000e+00</td>\n",
       "      <td>0.000000</td>\n",
       "      <td>0.0</td>\n",
       "      <td>0.0</td>\n",
       "      <td>0.0</td>\n",
       "      <td>0</td>\n",
       "      <td>0.0</td>\n",
       "      <td>...</td>\n",
       "      <td>0</td>\n",
       "      <td>0.0</td>\n",
       "      <td>0</td>\n",
       "      <td>0</td>\n",
       "      <td>0.0</td>\n",
       "      <td>0.0</td>\n",
       "      <td>0.000000</td>\n",
       "      <td>0</td>\n",
       "      <td>0</td>\n",
       "      <td>0.0</td>\n",
       "    </tr>\n",
       "    <tr>\n",
       "      <th>3</th>\n",
       "      <td>B0128</td>\n",
       "      <td>0.0</td>\n",
       "      <td>2.470089e+06</td>\n",
       "      <td>4.053755e+06</td>\n",
       "      <td>497496.251770</td>\n",
       "      <td>0.0</td>\n",
       "      <td>0.0</td>\n",
       "      <td>0.0</td>\n",
       "      <td>0</td>\n",
       "      <td>0.0</td>\n",
       "      <td>...</td>\n",
       "      <td>0</td>\n",
       "      <td>0.0</td>\n",
       "      <td>0</td>\n",
       "      <td>0</td>\n",
       "      <td>0.0</td>\n",
       "      <td>0.0</td>\n",
       "      <td>0.000000</td>\n",
       "      <td>0</td>\n",
       "      <td>0</td>\n",
       "      <td>0.0</td>\n",
       "    </tr>\n",
       "    <tr>\n",
       "      <th>4</th>\n",
       "      <td>F0023</td>\n",
       "      <td>0.0</td>\n",
       "      <td>0.000000e+00</td>\n",
       "      <td>2.559254e+05</td>\n",
       "      <td>0.000000</td>\n",
       "      <td>0.0</td>\n",
       "      <td>0.0</td>\n",
       "      <td>0.0</td>\n",
       "      <td>0</td>\n",
       "      <td>0.0</td>\n",
       "      <td>...</td>\n",
       "      <td>0</td>\n",
       "      <td>0.0</td>\n",
       "      <td>0</td>\n",
       "      <td>0</td>\n",
       "      <td>0.0</td>\n",
       "      <td>0.0</td>\n",
       "      <td>284728.392578</td>\n",
       "      <td>0</td>\n",
       "      <td>0</td>\n",
       "      <td>0.0</td>\n",
       "    </tr>\n",
       "  </tbody>\n",
       "</table>\n",
       "<p>5 rows × 45 columns</p>\n",
       "</div>"
      ],
      "text/plain": [
       "    Site  111           112           121            122  123  124  131  132  \\\n",
       "0  F0069  0.0  1.064122e+06  3.587087e+05       0.000000  0.0  0.0  0.0    0   \n",
       "1  F0025  0.0  0.000000e+00  0.000000e+00  412752.692383  0.0  0.0  0.0    0   \n",
       "2  F0027  0.0  2.741746e+05  0.000000e+00       0.000000  0.0  0.0  0.0    0   \n",
       "3  B0128  0.0  2.470089e+06  4.053755e+06  497496.251770  0.0  0.0  0.0    0   \n",
       "4  F0023  0.0  0.000000e+00  2.559254e+05       0.000000  0.0  0.0  0.0    0   \n",
       "\n",
       "   133  ...  411  412  421  422  423  511            512  521  522  523  \n",
       "0  0.0  ...    0  0.0    0    0  0.0  0.0       0.000000    0    0  0.0  \n",
       "1  0.0  ...    0  0.0    0    0  0.0  0.0       0.000000    0    0  0.0  \n",
       "2  0.0  ...    0  0.0    0    0  0.0  0.0       0.000000    0    0  0.0  \n",
       "3  0.0  ...    0  0.0    0    0  0.0  0.0       0.000000    0    0  0.0  \n",
       "4  0.0  ...    0  0.0    0    0  0.0  0.0  284728.392578    0    0  0.0  \n",
       "\n",
       "[5 rows x 45 columns]"
      ]
     },
     "execution_count": 7,
     "metadata": {},
     "output_type": "execute_result"
    }
   ],
   "source": [
    "surfaces_df.head(5)"
   ]
  },
  {
   "cell_type": "code",
   "execution_count": 8,
   "metadata": {},
   "outputs": [
    {
     "data": {
      "text/html": [
       "<div>\n",
       "<style scoped>\n",
       "    .dataframe tbody tr th:only-of-type {\n",
       "        vertical-align: middle;\n",
       "    }\n",
       "\n",
       "    .dataframe tbody tr th {\n",
       "        vertical-align: top;\n",
       "    }\n",
       "\n",
       "    .dataframe thead th {\n",
       "        text-align: right;\n",
       "    }\n",
       "</style>\n",
       "<table border=\"1\" class=\"dataframe\">\n",
       "  <thead>\n",
       "    <tr style=\"text-align: right;\">\n",
       "      <th></th>\n",
       "      <th>Site</th>\n",
       "      <th>polyID</th>\n",
       "      <th>classCLC</th>\n",
       "      <th>dist</th>\n",
       "    </tr>\n",
       "  </thead>\n",
       "  <tbody>\n",
       "    <tr>\n",
       "      <th>0</th>\n",
       "      <td>F0069</td>\n",
       "      <td>FR-88090</td>\n",
       "      <td>231</td>\n",
       "      <td>1183.022362</td>\n",
       "    </tr>\n",
       "    <tr>\n",
       "      <th>1</th>\n",
       "      <td>F0069</td>\n",
       "      <td>FR-131773</td>\n",
       "      <td>242</td>\n",
       "      <td>289.926324</td>\n",
       "    </tr>\n",
       "    <tr>\n",
       "      <th>2</th>\n",
       "      <td>F0069</td>\n",
       "      <td>FR-46167</td>\n",
       "      <td>211</td>\n",
       "      <td>221.344153</td>\n",
       "    </tr>\n",
       "    <tr>\n",
       "      <th>3</th>\n",
       "      <td>F0069</td>\n",
       "      <td>FR-11047</td>\n",
       "      <td>112</td>\n",
       "      <td>1038.383069</td>\n",
       "    </tr>\n",
       "    <tr>\n",
       "      <th>4</th>\n",
       "      <td>F0069</td>\n",
       "      <td>FR-195343</td>\n",
       "      <td>311</td>\n",
       "      <td>724.045683</td>\n",
       "    </tr>\n",
       "  </tbody>\n",
       "</table>\n",
       "</div>"
      ],
      "text/plain": [
       "    Site     polyID  classCLC         dist\n",
       "0  F0069   FR-88090       231  1183.022362\n",
       "1  F0069  FR-131773       242   289.926324\n",
       "2  F0069   FR-46167       211   221.344153\n",
       "3  F0069   FR-11047       112  1038.383069\n",
       "4  F0069  FR-195343       311   724.045683"
      ]
     },
     "execution_count": 8,
     "metadata": {},
     "output_type": "execute_result"
    }
   ],
   "source": [
    "distances_df.head(5)"
   ]
  },
  {
   "cell_type": "markdown",
   "metadata": {},
   "source": [
    "### Heavy Metal"
   ]
  },
  {
   "cell_type": "code",
   "execution_count": 9,
   "metadata": {},
   "outputs": [
    {
     "data": {
      "text/html": [
       "<div>\n",
       "<style scoped>\n",
       "    .dataframe tbody tr th:only-of-type {\n",
       "        vertical-align: middle;\n",
       "    }\n",
       "\n",
       "    .dataframe tbody tr th {\n",
       "        vertical-align: top;\n",
       "    }\n",
       "\n",
       "    .dataframe thead th {\n",
       "        text-align: right;\n",
       "    }\n",
       "</style>\n",
       "<table border=\"1\" class=\"dataframe\">\n",
       "  <thead>\n",
       "    <tr style=\"text-align: right;\">\n",
       "      <th></th>\n",
       "      <th>REF....SUBSTANCE</th>\n",
       "      <th>PERIOD</th>\n",
       "      <th>Lead</th>\n",
       "      <th>Cadmium</th>\n",
       "      <th>Arsenic</th>\n",
       "      <th>Mercury</th>\n",
       "      <th>Copper</th>\n",
       "      <th>Chromium</th>\n",
       "      <th>Zinc</th>\n",
       "      <th>Chrome</th>\n",
       "    </tr>\n",
       "  </thead>\n",
       "  <tbody>\n",
       "    <tr>\n",
       "      <th>0</th>\n",
       "      <td>B0017</td>\n",
       "      <td>2017/P1</td>\n",
       "      <td>0.081</td>\n",
       "      <td>0.81</td>\n",
       "      <td>0.0</td>\n",
       "      <td>0.0</td>\n",
       "      <td>5.5</td>\n",
       "      <td>0.032</td>\n",
       "      <td>40</td>\n",
       "      <td>0.0</td>\n",
       "    </tr>\n",
       "    <tr>\n",
       "      <th>1</th>\n",
       "      <td>B0019</td>\n",
       "      <td>2017/P1</td>\n",
       "      <td>0.062</td>\n",
       "      <td>0.36</td>\n",
       "      <td>0.0</td>\n",
       "      <td>0.0</td>\n",
       "      <td>8.5</td>\n",
       "      <td>0.029</td>\n",
       "      <td>33</td>\n",
       "      <td>0.0</td>\n",
       "    </tr>\n",
       "    <tr>\n",
       "      <th>2</th>\n",
       "      <td>B0021</td>\n",
       "      <td>2017/P1</td>\n",
       "      <td>0.150</td>\n",
       "      <td>0.61</td>\n",
       "      <td>0.0</td>\n",
       "      <td>0.0</td>\n",
       "      <td>7.0</td>\n",
       "      <td>0.038</td>\n",
       "      <td>37</td>\n",
       "      <td>0.0</td>\n",
       "    </tr>\n",
       "    <tr>\n",
       "      <th>3</th>\n",
       "      <td>B0023</td>\n",
       "      <td>2017/P1</td>\n",
       "      <td>0.067</td>\n",
       "      <td>0.35</td>\n",
       "      <td>0.0</td>\n",
       "      <td>0.0</td>\n",
       "      <td>6.9</td>\n",
       "      <td>0.031</td>\n",
       "      <td>37</td>\n",
       "      <td>0.0</td>\n",
       "    </tr>\n",
       "    <tr>\n",
       "      <th>4</th>\n",
       "      <td>B0037</td>\n",
       "      <td>2017/P1</td>\n",
       "      <td>0.120</td>\n",
       "      <td>0.07</td>\n",
       "      <td>0.0</td>\n",
       "      <td>0.0</td>\n",
       "      <td>5.6</td>\n",
       "      <td>0.052</td>\n",
       "      <td>35</td>\n",
       "      <td>0.0</td>\n",
       "    </tr>\n",
       "  </tbody>\n",
       "</table>\n",
       "</div>"
      ],
      "text/plain": [
       "  REF....SUBSTANCE   PERIOD   Lead  Cadmium  Arsenic  Mercury  Copper  \\\n",
       "0            B0017  2017/P1  0.081     0.81      0.0      0.0     5.5   \n",
       "1            B0019  2017/P1  0.062     0.36      0.0      0.0     8.5   \n",
       "2            B0021  2017/P1  0.150     0.61      0.0      0.0     7.0   \n",
       "3            B0023  2017/P1  0.067     0.35      0.0      0.0     6.9   \n",
       "4            B0037  2017/P1  0.120     0.07      0.0      0.0     5.6   \n",
       "\n",
       "   Chromium  Zinc  Chrome  \n",
       "0     0.032    40     0.0  \n",
       "1     0.029    33     0.0  \n",
       "2     0.038    37     0.0  \n",
       "3     0.031    37     0.0  \n",
       "4     0.052    35     0.0  "
      ]
     },
     "execution_count": 9,
     "metadata": {},
     "output_type": "execute_result"
    }
   ],
   "source": [
    "hm_df.head()"
   ]
  },
  {
   "cell_type": "code",
   "execution_count": 10,
   "metadata": {},
   "outputs": [
    {
     "data": {
      "text/html": [
       "<div>\n",
       "<style scoped>\n",
       "    .dataframe tbody tr th:only-of-type {\n",
       "        vertical-align: middle;\n",
       "    }\n",
       "\n",
       "    .dataframe tbody tr th {\n",
       "        vertical-align: top;\n",
       "    }\n",
       "\n",
       "    .dataframe thead th {\n",
       "        text-align: right;\n",
       "    }\n",
       "</style>\n",
       "<table border=\"1\" class=\"dataframe\">\n",
       "  <thead>\n",
       "    <tr style=\"text-align: right;\">\n",
       "      <th></th>\n",
       "      <th>Lead</th>\n",
       "      <th>Cadmium</th>\n",
       "      <th>Arsenic</th>\n",
       "      <th>Mercury</th>\n",
       "      <th>Copper</th>\n",
       "    </tr>\n",
       "  </thead>\n",
       "  <tbody>\n",
       "    <tr>\n",
       "      <th>0</th>\n",
       "      <td>1.5</td>\n",
       "      <td>1</td>\n",
       "      <td>0.3</td>\n",
       "      <td>0</td>\n",
       "      <td>30</td>\n",
       "    </tr>\n",
       "  </tbody>\n",
       "</table>\n",
       "</div>"
      ],
      "text/plain": [
       "   Lead  Cadmium  Arsenic  Mercury  Copper\n",
       "0   1.5        1      0.3        0      30"
      ]
     },
     "execution_count": 10,
     "metadata": {},
     "output_type": "execute_result"
    }
   ],
   "source": [
    "MRL_HM_dict = {\n",
    "    'Lead' : [1.5],\n",
    "    'Cadmium' : [1],\n",
    "    'Arsenic' : [0.3],\n",
    "    'Mercury' : [0],\n",
    "    'Copper' : [30]\n",
    "}\n",
    "\n",
    "MRL_HM = pd.DataFrame.from_dict(MRL_HM_dict)\n",
    "MRL_HM"
   ]
  },
  {
   "cell_type": "code",
   "execution_count": 11,
   "metadata": {},
   "outputs": [
    {
     "data": {
      "text/html": [
       "<div>\n",
       "<style scoped>\n",
       "    .dataframe tbody tr th:only-of-type {\n",
       "        vertical-align: middle;\n",
       "    }\n",
       "\n",
       "    .dataframe tbody tr th {\n",
       "        vertical-align: top;\n",
       "    }\n",
       "\n",
       "    .dataframe thead th {\n",
       "        text-align: right;\n",
       "    }\n",
       "</style>\n",
       "<table border=\"1\" class=\"dataframe\">\n",
       "  <thead>\n",
       "    <tr style=\"text-align: right;\">\n",
       "      <th></th>\n",
       "      <th>REF....SUBSTANCE</th>\n",
       "      <th>PERIOD</th>\n",
       "      <th>Lead</th>\n",
       "      <th>Cadmium</th>\n",
       "      <th>Arsenic</th>\n",
       "      <th>Mercury</th>\n",
       "      <th>Copper</th>\n",
       "      <th>Chromium</th>\n",
       "      <th>Zinc</th>\n",
       "      <th>Chrome</th>\n",
       "      <th>mrl_lead</th>\n",
       "      <th>mrl_cadmium</th>\n",
       "      <th>mrl_arsenic</th>\n",
       "      <th>mrl_copper</th>\n",
       "      <th>has_mercury</th>\n",
       "    </tr>\n",
       "  </thead>\n",
       "  <tbody>\n",
       "    <tr>\n",
       "      <th>0</th>\n",
       "      <td>B0017</td>\n",
       "      <td>2017/P1</td>\n",
       "      <td>0.081</td>\n",
       "      <td>0.81</td>\n",
       "      <td>0.0</td>\n",
       "      <td>0.0</td>\n",
       "      <td>5.5</td>\n",
       "      <td>0.032</td>\n",
       "      <td>40</td>\n",
       "      <td>0.0</td>\n",
       "      <td>0</td>\n",
       "      <td>0</td>\n",
       "      <td>0</td>\n",
       "      <td>0</td>\n",
       "      <td>0</td>\n",
       "    </tr>\n",
       "    <tr>\n",
       "      <th>1</th>\n",
       "      <td>B0019</td>\n",
       "      <td>2017/P1</td>\n",
       "      <td>0.062</td>\n",
       "      <td>0.36</td>\n",
       "      <td>0.0</td>\n",
       "      <td>0.0</td>\n",
       "      <td>8.5</td>\n",
       "      <td>0.029</td>\n",
       "      <td>33</td>\n",
       "      <td>0.0</td>\n",
       "      <td>0</td>\n",
       "      <td>0</td>\n",
       "      <td>0</td>\n",
       "      <td>0</td>\n",
       "      <td>0</td>\n",
       "    </tr>\n",
       "    <tr>\n",
       "      <th>2</th>\n",
       "      <td>B0021</td>\n",
       "      <td>2017/P1</td>\n",
       "      <td>0.150</td>\n",
       "      <td>0.61</td>\n",
       "      <td>0.0</td>\n",
       "      <td>0.0</td>\n",
       "      <td>7.0</td>\n",
       "      <td>0.038</td>\n",
       "      <td>37</td>\n",
       "      <td>0.0</td>\n",
       "      <td>0</td>\n",
       "      <td>0</td>\n",
       "      <td>0</td>\n",
       "      <td>0</td>\n",
       "      <td>0</td>\n",
       "    </tr>\n",
       "    <tr>\n",
       "      <th>3</th>\n",
       "      <td>B0023</td>\n",
       "      <td>2017/P1</td>\n",
       "      <td>0.067</td>\n",
       "      <td>0.35</td>\n",
       "      <td>0.0</td>\n",
       "      <td>0.0</td>\n",
       "      <td>6.9</td>\n",
       "      <td>0.031</td>\n",
       "      <td>37</td>\n",
       "      <td>0.0</td>\n",
       "      <td>0</td>\n",
       "      <td>0</td>\n",
       "      <td>0</td>\n",
       "      <td>0</td>\n",
       "      <td>0</td>\n",
       "    </tr>\n",
       "    <tr>\n",
       "      <th>4</th>\n",
       "      <td>B0037</td>\n",
       "      <td>2017/P1</td>\n",
       "      <td>0.120</td>\n",
       "      <td>0.07</td>\n",
       "      <td>0.0</td>\n",
       "      <td>0.0</td>\n",
       "      <td>5.6</td>\n",
       "      <td>0.052</td>\n",
       "      <td>35</td>\n",
       "      <td>0.0</td>\n",
       "      <td>0</td>\n",
       "      <td>0</td>\n",
       "      <td>0</td>\n",
       "      <td>0</td>\n",
       "      <td>0</td>\n",
       "    </tr>\n",
       "  </tbody>\n",
       "</table>\n",
       "</div>"
      ],
      "text/plain": [
       "  REF....SUBSTANCE   PERIOD   Lead  Cadmium  Arsenic  Mercury  Copper  \\\n",
       "0            B0017  2017/P1  0.081     0.81      0.0      0.0     5.5   \n",
       "1            B0019  2017/P1  0.062     0.36      0.0      0.0     8.5   \n",
       "2            B0021  2017/P1  0.150     0.61      0.0      0.0     7.0   \n",
       "3            B0023  2017/P1  0.067     0.35      0.0      0.0     6.9   \n",
       "4            B0037  2017/P1  0.120     0.07      0.0      0.0     5.6   \n",
       "\n",
       "   Chromium  Zinc  Chrome  mrl_lead  mrl_cadmium  mrl_arsenic  mrl_copper  \\\n",
       "0     0.032    40     0.0         0            0            0           0   \n",
       "1     0.029    33     0.0         0            0            0           0   \n",
       "2     0.038    37     0.0         0            0            0           0   \n",
       "3     0.031    37     0.0         0            0            0           0   \n",
       "4     0.052    35     0.0         0            0            0           0   \n",
       "\n",
       "   has_mercury  \n",
       "0            0  \n",
       "1            0  \n",
       "2            0  \n",
       "3            0  \n",
       "4            0  "
      ]
     },
     "execution_count": 11,
     "metadata": {},
     "output_type": "execute_result"
    }
   ],
   "source": [
    "hm_df['mrl_lead'] = np.where(hm_df['Lead'] > 1.5, 1, 0)\n",
    "hm_df['mrl_cadmium'] = np.where(hm_df['Cadmium'] > 1, 1, 0)\n",
    "hm_df['mrl_arsenic'] = np.where(hm_df['Arsenic'] > 0.3, 1, 0)\n",
    "hm_df['mrl_copper'] = np.where(hm_df['Copper'] > 30, 1, 0)\n",
    "hm_df['has_mercury'] = np.where(hm_df['Mercury'] > 0, 1, 0)\n",
    "\n",
    "hm_df.head()"
   ]
  },
  {
   "cell_type": "code",
   "execution_count": 12,
   "metadata": {},
   "outputs": [
    {
     "data": {
      "text/html": [
       "<div>\n",
       "<style scoped>\n",
       "    .dataframe tbody tr th:only-of-type {\n",
       "        vertical-align: middle;\n",
       "    }\n",
       "\n",
       "    .dataframe tbody tr th {\n",
       "        vertical-align: top;\n",
       "    }\n",
       "\n",
       "    .dataframe thead th {\n",
       "        text-align: right;\n",
       "    }\n",
       "</style>\n",
       "<table border=\"1\" class=\"dataframe\">\n",
       "  <thead>\n",
       "    <tr style=\"text-align: right;\">\n",
       "      <th></th>\n",
       "      <th>REF....SUBSTANCE</th>\n",
       "      <th>PERIOD</th>\n",
       "      <th>mrl_lead</th>\n",
       "      <th>mrl_cadmium</th>\n",
       "      <th>mrl_arsenic</th>\n",
       "      <th>mrl_copper</th>\n",
       "      <th>has_mercury</th>\n",
       "    </tr>\n",
       "  </thead>\n",
       "  <tbody>\n",
       "    <tr>\n",
       "      <th>0</th>\n",
       "      <td>B0017</td>\n",
       "      <td>2017/P1</td>\n",
       "      <td>0</td>\n",
       "      <td>0</td>\n",
       "      <td>0</td>\n",
       "      <td>0</td>\n",
       "      <td>0</td>\n",
       "    </tr>\n",
       "    <tr>\n",
       "      <th>1</th>\n",
       "      <td>B0019</td>\n",
       "      <td>2017/P1</td>\n",
       "      <td>0</td>\n",
       "      <td>0</td>\n",
       "      <td>0</td>\n",
       "      <td>0</td>\n",
       "      <td>0</td>\n",
       "    </tr>\n",
       "    <tr>\n",
       "      <th>2</th>\n",
       "      <td>B0021</td>\n",
       "      <td>2017/P1</td>\n",
       "      <td>0</td>\n",
       "      <td>0</td>\n",
       "      <td>0</td>\n",
       "      <td>0</td>\n",
       "      <td>0</td>\n",
       "    </tr>\n",
       "    <tr>\n",
       "      <th>3</th>\n",
       "      <td>B0023</td>\n",
       "      <td>2017/P1</td>\n",
       "      <td>0</td>\n",
       "      <td>0</td>\n",
       "      <td>0</td>\n",
       "      <td>0</td>\n",
       "      <td>0</td>\n",
       "    </tr>\n",
       "    <tr>\n",
       "      <th>4</th>\n",
       "      <td>B0037</td>\n",
       "      <td>2017/P1</td>\n",
       "      <td>0</td>\n",
       "      <td>0</td>\n",
       "      <td>0</td>\n",
       "      <td>0</td>\n",
       "      <td>0</td>\n",
       "    </tr>\n",
       "  </tbody>\n",
       "</table>\n",
       "</div>"
      ],
      "text/plain": [
       "  REF....SUBSTANCE   PERIOD  mrl_lead  mrl_cadmium  mrl_arsenic  mrl_copper  \\\n",
       "0            B0017  2017/P1         0            0            0           0   \n",
       "1            B0019  2017/P1         0            0            0           0   \n",
       "2            B0021  2017/P1         0            0            0           0   \n",
       "3            B0023  2017/P1         0            0            0           0   \n",
       "4            B0037  2017/P1         0            0            0           0   \n",
       "\n",
       "   has_mercury  \n",
       "0            0  \n",
       "1            0  \n",
       "2            0  \n",
       "3            0  \n",
       "4            0  "
      ]
     },
     "execution_count": 12,
     "metadata": {},
     "output_type": "execute_result"
    }
   ],
   "source": [
    "# Dropping columns of metals without specific threshhold level defined by laws\n",
    "hm_df = hm_df.drop(['Chromium'], axis=1)\n",
    "hm_df = hm_df.drop(['Chrome'], axis=1)\n",
    "hm_df = hm_df.drop(['Zinc'], axis=1)\n",
    "\n",
    "# Dropping other columns not needed anymore\n",
    "hm_df = hm_df.drop(['Lead'], axis=1)\n",
    "hm_df = hm_df.drop(['Cadmium'], axis=1)\n",
    "hm_df = hm_df.drop(['Arsenic'], axis=1)\n",
    "hm_df = hm_df.drop(['Mercury'], axis=1)\n",
    "hm_df = hm_df.drop(['Copper'], axis=1)\n",
    "\n",
    "hm_df.head()"
   ]
  },
  {
   "cell_type": "markdown",
   "metadata": {},
   "source": [
    "##### Aleternate dataset (grooup by) for HM"
   ]
  },
  {
   "cell_type": "code",
   "execution_count": 13,
   "metadata": {},
   "outputs": [
    {
     "data": {
      "text/html": [
       "<div>\n",
       "<style scoped>\n",
       "    .dataframe tbody tr th:only-of-type {\n",
       "        vertical-align: middle;\n",
       "    }\n",
       "\n",
       "    .dataframe tbody tr th {\n",
       "        vertical-align: top;\n",
       "    }\n",
       "\n",
       "    .dataframe thead th {\n",
       "        text-align: right;\n",
       "    }\n",
       "</style>\n",
       "<table border=\"1\" class=\"dataframe\">\n",
       "  <thead>\n",
       "    <tr style=\"text-align: right;\">\n",
       "      <th></th>\n",
       "      <th>mrl_lead</th>\n",
       "      <th>mrl_cadmium</th>\n",
       "      <th>mrl_arsenic</th>\n",
       "      <th>mrl_copper</th>\n",
       "      <th>has_mercury</th>\n",
       "    </tr>\n",
       "    <tr>\n",
       "      <th>REF....SUBSTANCE</th>\n",
       "      <th></th>\n",
       "      <th></th>\n",
       "      <th></th>\n",
       "      <th></th>\n",
       "      <th></th>\n",
       "    </tr>\n",
       "  </thead>\n",
       "  <tbody>\n",
       "    <tr>\n",
       "      <th>F0019</th>\n",
       "      <td>0</td>\n",
       "      <td>0</td>\n",
       "      <td>0</td>\n",
       "      <td>0</td>\n",
       "      <td>1</td>\n",
       "    </tr>\n",
       "    <tr>\n",
       "      <th>F0033</th>\n",
       "      <td>0</td>\n",
       "      <td>0</td>\n",
       "      <td>0</td>\n",
       "      <td>0</td>\n",
       "      <td>0</td>\n",
       "    </tr>\n",
       "    <tr>\n",
       "      <th>F0061</th>\n",
       "      <td>0</td>\n",
       "      <td>0</td>\n",
       "      <td>0</td>\n",
       "      <td>0</td>\n",
       "      <td>0</td>\n",
       "    </tr>\n",
       "    <tr>\n",
       "      <th>F0017</th>\n",
       "      <td>0</td>\n",
       "      <td>0</td>\n",
       "      <td>0</td>\n",
       "      <td>0</td>\n",
       "      <td>0</td>\n",
       "    </tr>\n",
       "    <tr>\n",
       "      <th>F0013</th>\n",
       "      <td>0</td>\n",
       "      <td>0</td>\n",
       "      <td>1</td>\n",
       "      <td>0</td>\n",
       "      <td>0</td>\n",
       "    </tr>\n",
       "    <tr>\n",
       "      <th>B0039</th>\n",
       "      <td>0</td>\n",
       "      <td>0</td>\n",
       "      <td>0</td>\n",
       "      <td>0</td>\n",
       "      <td>0</td>\n",
       "    </tr>\n",
       "    <tr>\n",
       "      <th>B0037</th>\n",
       "      <td>0</td>\n",
       "      <td>0</td>\n",
       "      <td>0</td>\n",
       "      <td>0</td>\n",
       "      <td>0</td>\n",
       "    </tr>\n",
       "    <tr>\n",
       "      <th>B0045</th>\n",
       "      <td>0</td>\n",
       "      <td>0</td>\n",
       "      <td>0</td>\n",
       "      <td>0</td>\n",
       "      <td>0</td>\n",
       "    </tr>\n",
       "    <tr>\n",
       "      <th>F0015</th>\n",
       "      <td>0</td>\n",
       "      <td>0</td>\n",
       "      <td>0</td>\n",
       "      <td>0</td>\n",
       "      <td>1</td>\n",
       "    </tr>\n",
       "    <tr>\n",
       "      <th>F0007</th>\n",
       "      <td>0</td>\n",
       "      <td>0</td>\n",
       "      <td>0</td>\n",
       "      <td>0</td>\n",
       "      <td>0</td>\n",
       "    </tr>\n",
       "  </tbody>\n",
       "</table>\n",
       "</div>"
      ],
      "text/plain": [
       "                  mrl_lead  mrl_cadmium  mrl_arsenic  mrl_copper  has_mercury\n",
       "REF....SUBSTANCE                                                             \n",
       "F0019                    0            0            0           0            1\n",
       "F0033                    0            0            0           0            0\n",
       "F0061                    0            0            0           0            0\n",
       "F0017                    0            0            0           0            0\n",
       "F0013                    0            0            1           0            0\n",
       "B0039                    0            0            0           0            0\n",
       "B0037                    0            0            0           0            0\n",
       "B0045                    0            0            0           0            0\n",
       "F0015                    0            0            0           0            1\n",
       "F0007                    0            0            0           0            0"
      ]
     },
     "execution_count": 13,
     "metadata": {},
     "output_type": "execute_result"
    }
   ],
   "source": [
    "group_hm_df = hm_df.groupby('REF....SUBSTANCE').agg(max).drop(columns=['PERIOD'])\n",
    "group_hm_df.sample(10)"
   ]
  },
  {
   "cell_type": "markdown",
   "metadata": {},
   "source": [
    "##### Alternate df, with categorical"
   ]
  },
  {
   "cell_type": "code",
   "execution_count": 14,
   "metadata": {},
   "outputs": [],
   "source": [
    "cat_hm_df = group_hm_df.copy(deep=True)"
   ]
  },
  {
   "cell_type": "code",
   "execution_count": 15,
   "metadata": {},
   "outputs": [],
   "source": [
    "cat_hm_df['cat'] = cat_hm_df.apply(lambda x: (str(x['mrl_lead']) + \n",
    "                                              str(x['mrl_cadmium']) + \n",
    "                                              str(x['mrl_arsenic']) + \n",
    "                                              str(x['mrl_copper'])) + \n",
    "                                              str(x['has_mercury']), axis=1)"
   ]
  },
  {
   "cell_type": "code",
   "execution_count": 16,
   "metadata": {},
   "outputs": [
    {
     "data": {
      "text/plain": [
       "{0: '00000',\n",
       " 1: '00001',\n",
       " 4: '01000',\n",
       " 5: '10000',\n",
       " 3: '00100',\n",
       " 6: '10001',\n",
       " 2: '00010'}"
      ]
     },
     "execution_count": 16,
     "metadata": {},
     "output_type": "execute_result"
    }
   ],
   "source": [
    "cat_hm_df['cat'] = cat_hm_df['cat'].astype('category')\n",
    "cat_hm_df['cat_label'] = cat_hm_df['cat'].cat.codes\n",
    "\n",
    "labels = cat_hm_df.set_index('cat_label')['cat'].to_dict()\n",
    "labels"
   ]
  },
  {
   "cell_type": "code",
   "execution_count": 17,
   "metadata": {},
   "outputs": [],
   "source": [
    "cat_hm_df = cat_hm_df.drop(columns=['mrl_lead', \n",
    "                                    'mrl_cadmium', \n",
    "                                    'mrl_arsenic', \n",
    "                                    'mrl_copper',\n",
    "                                    'has_mercury',\n",
    "                                    'cat'])"
   ]
  },
  {
   "cell_type": "code",
   "execution_count": 18,
   "metadata": {},
   "outputs": [
    {
     "data": {
      "text/html": [
       "<div>\n",
       "<style scoped>\n",
       "    .dataframe tbody tr th:only-of-type {\n",
       "        vertical-align: middle;\n",
       "    }\n",
       "\n",
       "    .dataframe tbody tr th {\n",
       "        vertical-align: top;\n",
       "    }\n",
       "\n",
       "    .dataframe thead th {\n",
       "        text-align: right;\n",
       "    }\n",
       "</style>\n",
       "<table border=\"1\" class=\"dataframe\">\n",
       "  <thead>\n",
       "    <tr style=\"text-align: right;\">\n",
       "      <th></th>\n",
       "      <th>cat_label</th>\n",
       "    </tr>\n",
       "    <tr>\n",
       "      <th>REF....SUBSTANCE</th>\n",
       "      <th></th>\n",
       "    </tr>\n",
       "  </thead>\n",
       "  <tbody>\n",
       "    <tr>\n",
       "      <th>F0007</th>\n",
       "      <td>0</td>\n",
       "    </tr>\n",
       "    <tr>\n",
       "      <th>B0067</th>\n",
       "      <td>4</td>\n",
       "    </tr>\n",
       "    <tr>\n",
       "      <th>B0032</th>\n",
       "      <td>0</td>\n",
       "    </tr>\n",
       "    <tr>\n",
       "      <th>F0061</th>\n",
       "      <td>0</td>\n",
       "    </tr>\n",
       "    <tr>\n",
       "      <th>F0027</th>\n",
       "      <td>1</td>\n",
       "    </tr>\n",
       "  </tbody>\n",
       "</table>\n",
       "</div>"
      ],
      "text/plain": [
       "                  cat_label\n",
       "REF....SUBSTANCE           \n",
       "F0007                     0\n",
       "B0067                     4\n",
       "B0032                     0\n",
       "F0061                     0\n",
       "F0027                     1"
      ]
     },
     "execution_count": 18,
     "metadata": {},
     "output_type": "execute_result"
    }
   ],
   "source": [
    "cat_hm_df.sample(5)"
   ]
  },
  {
   "cell_type": "markdown",
   "metadata": {},
   "source": [
    "### Pesticides"
   ]
  },
  {
   "cell_type": "markdown",
   "metadata": {},
   "source": [
    "Fungicide :"
   ]
  },
  {
   "cell_type": "code",
   "execution_count": 19,
   "metadata": {},
   "outputs": [
    {
     "data": {
      "text/html": [
       "<div>\n",
       "<style scoped>\n",
       "    .dataframe tbody tr th:only-of-type {\n",
       "        vertical-align: middle;\n",
       "    }\n",
       "\n",
       "    .dataframe tbody tr th {\n",
       "        vertical-align: top;\n",
       "    }\n",
       "\n",
       "    .dataframe thead th {\n",
       "        text-align: right;\n",
       "    }\n",
       "</style>\n",
       "<table border=\"1\" class=\"dataframe\">\n",
       "  <thead>\n",
       "    <tr style=\"text-align: right;\">\n",
       "      <th></th>\n",
       "      <th>importName</th>\n",
       "      <th>name</th>\n",
       "      <th>statusEN</th>\n",
       "      <th>LMR</th>\n",
       "      <th>familyEN</th>\n",
       "      <th>typeEN</th>\n",
       "    </tr>\n",
       "  </thead>\n",
       "  <tbody>\n",
       "    <tr>\n",
       "      <th>2</th>\n",
       "      <td>Ametoctradin</td>\n",
       "      <td>ametoctradin</td>\n",
       "      <td>authorized</td>\n",
       "      <td>0.05</td>\n",
       "      <td>triazolopyrimidine</td>\n",
       "      <td>fungicide</td>\n",
       "    </tr>\n",
       "    <tr>\n",
       "      <th>4</th>\n",
       "      <td>Azoxystrobin</td>\n",
       "      <td>azoxystrobin</td>\n",
       "      <td>authorized</td>\n",
       "      <td>0.05</td>\n",
       "      <td>strobilurin</td>\n",
       "      <td>fungicide</td>\n",
       "    </tr>\n",
       "    <tr>\n",
       "      <th>5</th>\n",
       "      <td>Benalaxyl</td>\n",
       "      <td>benalaxyl</td>\n",
       "      <td>prohibited</td>\n",
       "      <td>0.05</td>\n",
       "      <td>phenylamides</td>\n",
       "      <td>fungicide</td>\n",
       "    </tr>\n",
       "    <tr>\n",
       "      <th>7</th>\n",
       "      <td>Benthiavalicarb.iso</td>\n",
       "      <td>benthiavalicarb-isopropyl</td>\n",
       "      <td>authorized</td>\n",
       "      <td>0.05</td>\n",
       "      <td>carbamate</td>\n",
       "      <td>fungicide</td>\n",
       "    </tr>\n",
       "    <tr>\n",
       "      <th>8</th>\n",
       "      <td>Benzovindiflupyr</td>\n",
       "      <td>benzovindiflupyr</td>\n",
       "      <td>authorized</td>\n",
       "      <td>0.05</td>\n",
       "      <td>amide</td>\n",
       "      <td>fungicide</td>\n",
       "    </tr>\n",
       "  </tbody>\n",
       "</table>\n",
       "</div>"
      ],
      "text/plain": [
       "            importName                       name    statusEN   LMR  \\\n",
       "2         Ametoctradin               ametoctradin  authorized  0.05   \n",
       "4         Azoxystrobin               azoxystrobin  authorized  0.05   \n",
       "5            Benalaxyl                  benalaxyl  prohibited  0.05   \n",
       "7  Benthiavalicarb.iso  benthiavalicarb-isopropyl  authorized  0.05   \n",
       "8     Benzovindiflupyr           benzovindiflupyr  authorized  0.05   \n",
       "\n",
       "             familyEN     typeEN  \n",
       "2  triazolopyrimidine  fungicide  \n",
       "4         strobilurin  fungicide  \n",
       "5        phenylamides  fungicide  \n",
       "7           carbamate  fungicide  \n",
       "8               amide  fungicide  "
      ]
     },
     "execution_count": 19,
     "metadata": {},
     "output_type": "execute_result"
    }
   ],
   "source": [
    "classe_pesticides_df[classe_pesticides_df['typeEN'] == 'fungicide'].head(5)"
   ]
  },
  {
   "cell_type": "code",
   "execution_count": 20,
   "metadata": {},
   "outputs": [
    {
     "data": {
      "text/plain": [
       "['Ametoctradin',\n",
       " 'Azoxystrobin',\n",
       " 'Benalaxyl',\n",
       " 'Benthiavalicarb.iso',\n",
       " 'Benzovindiflupyr',\n",
       " 'Boscalid',\n",
       " 'Bupirimate',\n",
       " 'Captan',\n",
       " 'Carbendazim',\n",
       " 'Chlorothalonil',\n",
       " 'Cyazofamid',\n",
       " 'Cyflufenamid',\n",
       " 'Cymoxanil',\n",
       " 'Cyprodinil',\n",
       " 'Difenoconazole',\n",
       " 'Dimethomorph',\n",
       " 'Dimoxystrobin',\n",
       " 'Dodine',\n",
       " 'Epoxiconazole',\n",
       " 'Ethirimol',\n",
       " 'Famoxadone',\n",
       " 'Fenamidone',\n",
       " 'Fenbuconazole',\n",
       " 'Fenhexamid',\n",
       " 'Fenpropidin',\n",
       " 'Fenpropimorph',\n",
       " 'Fluazinam',\n",
       " 'Fludioxonil',\n",
       " 'Fluopicolide',\n",
       " 'Fluopyram',\n",
       " 'Flutolanil',\n",
       " 'Fluxapyroxad',\n",
       " 'Hexaconazole',\n",
       " 'Iprovalicarb',\n",
       " 'Isofetamid',\n",
       " 'Mandipropamid',\n",
       " 'Metalaxyl',\n",
       " 'Metconazole',\n",
       " 'Metrafenone',\n",
       " 'Penconazole',\n",
       " 'Pencycuron',\n",
       " 'Pentachloroanisol',\n",
       " 'Prochloraz',\n",
       " 'Propamocarb',\n",
       " 'Propiconazole',\n",
       " 'Prothioconazole_d',\n",
       " 'Pyraclostrobin',\n",
       " 'Pyrimethanil',\n",
       " 'Quinoxyfen',\n",
       " 'Spiroxamine',\n",
       " 'Tetraconazole',\n",
       " 'Thiabendazole',\n",
       " 'Thiophanate.methyl',\n",
       " 'Trifloxystrobin',\n",
       " 'X2.phenylphenol',\n",
       " 'Zoxamide',\n",
       " 'Diphenylamine',\n",
       " 'Tebuconazole']"
      ]
     },
     "execution_count": 20,
     "metadata": {},
     "output_type": "execute_result"
    }
   ],
   "source": [
    "fungicides = classe_pesticides_df[classe_pesticides_df['typeEN'] == 'fungicide'].importName.to_list()\n",
    "fungicides.append('Diphenylamine')\n",
    "fungicides.append('Tebuconazole')\n",
    "fungicides"
   ]
  },
  {
   "cell_type": "markdown",
   "metadata": {},
   "source": [
    "Insecticide :"
   ]
  },
  {
   "cell_type": "code",
   "execution_count": 21,
   "metadata": {},
   "outputs": [
    {
     "data": {
      "text/html": [
       "<div>\n",
       "<style scoped>\n",
       "    .dataframe tbody tr th:only-of-type {\n",
       "        vertical-align: middle;\n",
       "    }\n",
       "\n",
       "    .dataframe tbody tr th {\n",
       "        vertical-align: top;\n",
       "    }\n",
       "\n",
       "    .dataframe thead th {\n",
       "        text-align: right;\n",
       "    }\n",
       "</style>\n",
       "<table border=\"1\" class=\"dataframe\">\n",
       "  <thead>\n",
       "    <tr style=\"text-align: right;\">\n",
       "      <th></th>\n",
       "      <th>importName</th>\n",
       "      <th>name</th>\n",
       "      <th>statusEN</th>\n",
       "      <th>LMR</th>\n",
       "      <th>familyEN</th>\n",
       "      <th>typeEN</th>\n",
       "    </tr>\n",
       "  </thead>\n",
       "  <tbody>\n",
       "    <tr>\n",
       "      <th>1</th>\n",
       "      <td>Aldrin</td>\n",
       "      <td>aldrin</td>\n",
       "      <td>prohibited</td>\n",
       "      <td>0.01</td>\n",
       "      <td>organochlorine</td>\n",
       "      <td>insecticide</td>\n",
       "    </tr>\n",
       "    <tr>\n",
       "      <th>13</th>\n",
       "      <td>Chlorantraniliprole</td>\n",
       "      <td>chlorantraniliprole</td>\n",
       "      <td>authorized</td>\n",
       "      <td>0.05</td>\n",
       "      <td>anthranilic diamide</td>\n",
       "      <td>insecticide</td>\n",
       "    </tr>\n",
       "    <tr>\n",
       "      <th>17</th>\n",
       "      <td>Chlorpyrifos.methyl</td>\n",
       "      <td>chlorpyrifos-methyl</td>\n",
       "      <td>prohibited</td>\n",
       "      <td>0.05</td>\n",
       "      <td>organophosphate</td>\n",
       "      <td>insecticide</td>\n",
       "    </tr>\n",
       "    <tr>\n",
       "      <th>19</th>\n",
       "      <td>Coumaphos</td>\n",
       "      <td>coumaphos</td>\n",
       "      <td>prohibited</td>\n",
       "      <td>0.10</td>\n",
       "      <td>thiophosphate</td>\n",
       "      <td>insecticide</td>\n",
       "    </tr>\n",
       "    <tr>\n",
       "      <th>20</th>\n",
       "      <td>Cyanofenphos</td>\n",
       "      <td>cyanofenphos</td>\n",
       "      <td>not yet assessed</td>\n",
       "      <td>NaN</td>\n",
       "      <td>organophosphate</td>\n",
       "      <td>insecticide</td>\n",
       "    </tr>\n",
       "  </tbody>\n",
       "</table>\n",
       "</div>"
      ],
      "text/plain": [
       "             importName                 name          statusEN   LMR  \\\n",
       "1                Aldrin               aldrin        prohibited  0.01   \n",
       "13  Chlorantraniliprole  chlorantraniliprole        authorized  0.05   \n",
       "17  Chlorpyrifos.methyl  chlorpyrifos-methyl        prohibited  0.05   \n",
       "19            Coumaphos            coumaphos        prohibited  0.10   \n",
       "20         Cyanofenphos         cyanofenphos  not yet assessed   NaN   \n",
       "\n",
       "               familyEN       typeEN  \n",
       "1        organochlorine  insecticide  \n",
       "13  anthranilic diamide  insecticide  \n",
       "17      organophosphate  insecticide  \n",
       "19        thiophosphate  insecticide  \n",
       "20      organophosphate  insecticide  "
      ]
     },
     "execution_count": 21,
     "metadata": {},
     "output_type": "execute_result"
    }
   ],
   "source": [
    "classe_pesticides_df[classe_pesticides_df['typeEN'] == 'insecticide'].head(5)"
   ]
  },
  {
   "cell_type": "code",
   "execution_count": 22,
   "metadata": {},
   "outputs": [
    {
     "data": {
      "text/plain": [
       "['Aldrin',\n",
       " 'Chlorantraniliprole',\n",
       " 'Chlorpyrifos.methyl',\n",
       " 'Coumaphos',\n",
       " 'Cyanofenphos',\n",
       " 'Cyflumetofen',\n",
       " 'Cypermethrin',\n",
       " 'Deet',\n",
       " 'Dieldrin',\n",
       " 'Etofenprox',\n",
       " 'Fenoxycarb',\n",
       " 'Fenpropathrin',\n",
       " 'Flonicamid',\n",
       " 'Flucythrinate',\n",
       " 'Flupyradifurone',\n",
       " 'Imidacloprid',\n",
       " 'Indoxacarb',\n",
       " 'Methoxyfenozide',\n",
       " 'Phosmet',\n",
       " 'Piperonylbutoxide',\n",
       " 'Pirimicarb',\n",
       " 'Spinosad',\n",
       " 'Spirotetramat',\n",
       " 'Tau.fluvalinate',\n",
       " 'Tebufenozide',\n",
       " 'Tetradifon',\n",
       " 'Thiacloprid',\n",
       " 'Diphenylamine',\n",
       " 'Methiocarb_total']"
      ]
     },
     "execution_count": 22,
     "metadata": {},
     "output_type": "execute_result"
    }
   ],
   "source": [
    "insecticides = classe_pesticides_df[classe_pesticides_df['typeEN'] == 'insecticide'].importName.to_list()\n",
    "insecticides.append('Diphenylamine')\n",
    "insecticides.append('Methiocarb_total')\n",
    "insecticides"
   ]
  },
  {
   "cell_type": "markdown",
   "metadata": {},
   "source": [
    "Herbicide : "
   ]
  },
  {
   "cell_type": "code",
   "execution_count": 23,
   "metadata": {},
   "outputs": [
    {
     "data": {
      "text/html": [
       "<div>\n",
       "<style scoped>\n",
       "    .dataframe tbody tr th:only-of-type {\n",
       "        vertical-align: middle;\n",
       "    }\n",
       "\n",
       "    .dataframe tbody tr th {\n",
       "        vertical-align: top;\n",
       "    }\n",
       "\n",
       "    .dataframe thead th {\n",
       "        text-align: right;\n",
       "    }\n",
       "</style>\n",
       "<table border=\"1\" class=\"dataframe\">\n",
       "  <thead>\n",
       "    <tr style=\"text-align: right;\">\n",
       "      <th></th>\n",
       "      <th>importName</th>\n",
       "      <th>name</th>\n",
       "      <th>statusEN</th>\n",
       "      <th>LMR</th>\n",
       "      <th>familyEN</th>\n",
       "      <th>typeEN</th>\n",
       "    </tr>\n",
       "  </thead>\n",
       "  <tbody>\n",
       "    <tr>\n",
       "      <th>0</th>\n",
       "      <td>Aclonifen</td>\n",
       "      <td>aclonifen</td>\n",
       "      <td>authorized</td>\n",
       "      <td>0.05</td>\n",
       "      <td>diphenyl ether</td>\n",
       "      <td>herbicide</td>\n",
       "    </tr>\n",
       "    <tr>\n",
       "      <th>6</th>\n",
       "      <td>Benfluralin</td>\n",
       "      <td>benfluralin</td>\n",
       "      <td>authorized</td>\n",
       "      <td>0.05</td>\n",
       "      <td>dinitroaniline</td>\n",
       "      <td>herbicide</td>\n",
       "    </tr>\n",
       "    <tr>\n",
       "      <th>15</th>\n",
       "      <td>Chlorotoluron</td>\n",
       "      <td>chlorotoluron</td>\n",
       "      <td>authorized</td>\n",
       "      <td>0.05</td>\n",
       "      <td>phenylurea</td>\n",
       "      <td>herbicide</td>\n",
       "    </tr>\n",
       "    <tr>\n",
       "      <th>16</th>\n",
       "      <td>Chlorpropham</td>\n",
       "      <td>chlorpropham</td>\n",
       "      <td>prohibited</td>\n",
       "      <td>0.05</td>\n",
       "      <td>carbamate</td>\n",
       "      <td>herbicide</td>\n",
       "    </tr>\n",
       "    <tr>\n",
       "      <th>18</th>\n",
       "      <td>Clethodim</td>\n",
       "      <td>clethodim</td>\n",
       "      <td>authorized</td>\n",
       "      <td>0.05</td>\n",
       "      <td>cyclohexanedione</td>\n",
       "      <td>herbicide</td>\n",
       "    </tr>\n",
       "  </tbody>\n",
       "</table>\n",
       "</div>"
      ],
      "text/plain": [
       "       importName           name    statusEN   LMR          familyEN  \\\n",
       "0       Aclonifen      aclonifen  authorized  0.05    diphenyl ether   \n",
       "6     Benfluralin    benfluralin  authorized  0.05    dinitroaniline   \n",
       "15  Chlorotoluron  chlorotoluron  authorized  0.05        phenylurea   \n",
       "16   Chlorpropham   chlorpropham  prohibited  0.05         carbamate   \n",
       "18      Clethodim      clethodim  authorized  0.05  cyclohexanedione   \n",
       "\n",
       "       typeEN  \n",
       "0   herbicide  \n",
       "6   herbicide  \n",
       "15  herbicide  \n",
       "16  herbicide  \n",
       "18  herbicide  "
      ]
     },
     "execution_count": 23,
     "metadata": {},
     "output_type": "execute_result"
    }
   ],
   "source": [
    "classe_pesticides_df[classe_pesticides_df['typeEN'] == 'herbicide'].head(5)"
   ]
  },
  {
   "cell_type": "code",
   "execution_count": 24,
   "metadata": {},
   "outputs": [
    {
     "data": {
      "text/plain": [
       "['Aclonifen',\n",
       " 'Benfluralin',\n",
       " 'Chlorotoluron',\n",
       " 'Chlorpropham',\n",
       " 'Clethodim',\n",
       " 'Cycloate',\n",
       " 'Diflufenican',\n",
       " 'Ethofumesate',\n",
       " 'Fluazifop',\n",
       " 'Flufenacet',\n",
       " 'Metamitron',\n",
       " 'Methabenzthiazuron',\n",
       " 'Metobromuron',\n",
       " 'Metolachlor',\n",
       " 'Nicosulfuron',\n",
       " 'Pendimethalin',\n",
       " 'Phenmedipham',\n",
       " 'Propanil',\n",
       " 'Propyzamide',\n",
       " 'Prosulfocarb',\n",
       " 'Prosulfuron',\n",
       " 'Simazine',\n",
       " 'Terbuthylazine',\n",
       " 'Tri.allate',\n",
       " 'Trifluralin']"
      ]
     },
     "execution_count": 24,
     "metadata": {},
     "output_type": "execute_result"
    }
   ],
   "source": [
    "herbicides = classe_pesticides_df[classe_pesticides_df['typeEN'] == 'herbicide'].importName.to_list()\n",
    "herbicides"
   ]
  },
  {
   "cell_type": "markdown",
   "metadata": {},
   "source": [
    "Others :"
   ]
  },
  {
   "cell_type": "code",
   "execution_count": 25,
   "metadata": {},
   "outputs": [
    {
     "data": {
      "text/html": [
       "<div>\n",
       "<style scoped>\n",
       "    .dataframe tbody tr th:only-of-type {\n",
       "        vertical-align: middle;\n",
       "    }\n",
       "\n",
       "    .dataframe tbody tr th {\n",
       "        vertical-align: top;\n",
       "    }\n",
       "\n",
       "    .dataframe thead th {\n",
       "        text-align: right;\n",
       "    }\n",
       "</style>\n",
       "<table border=\"1\" class=\"dataframe\">\n",
       "  <thead>\n",
       "    <tr style=\"text-align: right;\">\n",
       "      <th></th>\n",
       "      <th>importName</th>\n",
       "      <th>name</th>\n",
       "      <th>statusEN</th>\n",
       "      <th>LMR</th>\n",
       "      <th>familyEN</th>\n",
       "      <th>typeEN</th>\n",
       "    </tr>\n",
       "  </thead>\n",
       "  <tbody>\n",
       "    <tr>\n",
       "      <th>3</th>\n",
       "      <td>Anthraquinone</td>\n",
       "      <td>anthraquinone</td>\n",
       "      <td>prohibited</td>\n",
       "      <td>0.02</td>\n",
       "      <td>polycyclic aromatic hydrocarbon</td>\n",
       "      <td>bird repellant</td>\n",
       "    </tr>\n",
       "    <tr>\n",
       "      <th>34</th>\n",
       "      <td>Diphenylamine</td>\n",
       "      <td>diphenylamine</td>\n",
       "      <td>prohibited</td>\n",
       "      <td>0.05</td>\n",
       "      <td>amine</td>\n",
       "      <td>growth regulator, fungicide and insecticide</td>\n",
       "    </tr>\n",
       "    <tr>\n",
       "      <th>69</th>\n",
       "      <td>Methiocarb_total</td>\n",
       "      <td>methiocarb</td>\n",
       "      <td>prohibited</td>\n",
       "      <td>0.05</td>\n",
       "      <td>carbamate</td>\n",
       "      <td>insecticide, molluscicide and bird repellent</td>\n",
       "    </tr>\n",
       "    <tr>\n",
       "      <th>86</th>\n",
       "      <td>Propargite</td>\n",
       "      <td>propargite</td>\n",
       "      <td>prohibited</td>\n",
       "      <td>0.05</td>\n",
       "      <td>NaN</td>\n",
       "      <td>acaricide</td>\n",
       "    </tr>\n",
       "    <tr>\n",
       "      <th>100</th>\n",
       "      <td>Tebuconazole</td>\n",
       "      <td>tebuconazole</td>\n",
       "      <td>authorized</td>\n",
       "      <td>0.05</td>\n",
       "      <td>triazole</td>\n",
       "      <td>fungicide and growth regulator</td>\n",
       "    </tr>\n",
       "    <tr>\n",
       "      <th>112</th>\n",
       "      <td>X6.benzylaminopurine</td>\n",
       "      <td>benzyladenine</td>\n",
       "      <td>authorized</td>\n",
       "      <td>NaN</td>\n",
       "      <td>cytokinins</td>\n",
       "      <td>growth regulator</td>\n",
       "    </tr>\n",
       "    <tr>\n",
       "      <th>114</th>\n",
       "      <td>NaN</td>\n",
       "      <td>NaN</td>\n",
       "      <td>NaN</td>\n",
       "      <td>NaN</td>\n",
       "      <td>NaN</td>\n",
       "      <td>NaN</td>\n",
       "    </tr>\n",
       "  </tbody>\n",
       "</table>\n",
       "</div>"
      ],
      "text/plain": [
       "               importName           name    statusEN   LMR  \\\n",
       "3           Anthraquinone  anthraquinone  prohibited  0.02   \n",
       "34          Diphenylamine  diphenylamine  prohibited  0.05   \n",
       "69       Methiocarb_total     methiocarb  prohibited  0.05   \n",
       "86             Propargite     propargite  prohibited  0.05   \n",
       "100          Tebuconazole   tebuconazole  authorized  0.05   \n",
       "112  X6.benzylaminopurine  benzyladenine  authorized   NaN   \n",
       "114                   NaN            NaN         NaN   NaN   \n",
       "\n",
       "                            familyEN  \\\n",
       "3    polycyclic aromatic hydrocarbon   \n",
       "34                             amine   \n",
       "69                         carbamate   \n",
       "86                               NaN   \n",
       "100                         triazole   \n",
       "112                       cytokinins   \n",
       "114                              NaN   \n",
       "\n",
       "                                           typeEN  \n",
       "3                                  bird repellant  \n",
       "34    growth regulator, fungicide and insecticide  \n",
       "69   insecticide, molluscicide and bird repellent  \n",
       "86                                      acaricide  \n",
       "100                fungicide and growth regulator  \n",
       "112                              growth regulator  \n",
       "114                                           NaN  "
      ]
     },
     "execution_count": 25,
     "metadata": {},
     "output_type": "execute_result"
    }
   ],
   "source": [
    "classe_pesticides_df[(classe_pesticides_df['typeEN'] != 'fungicide') & \n",
    "                     (classe_pesticides_df['typeEN'] != 'insecticide') & \n",
    "                     (classe_pesticides_df['typeEN'] != 'herbicide')]"
   ]
  },
  {
   "cell_type": "markdown",
   "metadata": {},
   "source": [
    "##### Choice to treat the others"
   ]
  },
  {
   "cell_type": "markdown",
   "metadata": {},
   "source": [
    "Adding to the corresponding categories, stay in \"other\" ? What about the growth regulator ?"
   ]
  },
  {
   "cell_type": "markdown",
   "metadata": {},
   "source": [
    "#### Add some columns"
   ]
  },
  {
   "cell_type": "code",
   "execution_count": 26,
   "metadata": {},
   "outputs": [],
   "source": [
    "pesticides_df['qtt_fungicides'] = pesticides_df.apply(qtt_pesticides, args = fungicides, axis = 1)\n",
    "pesticides_df['qtt_insecticides'] = pesticides_df.apply(qtt_pesticides, args = insecticides, axis = 1)\n",
    "pesticides_df['qtt_herbicides'] = pesticides_df.apply(qtt_pesticides, args = herbicides, axis = 1)"
   ]
  },
  {
   "cell_type": "code",
   "execution_count": 27,
   "metadata": {},
   "outputs": [],
   "source": [
    "pesticides_df['nb_fungicides'] = pesticides_df.apply(nb_pesticides, args = fungicides, axis = 1)\n",
    "pesticides_df['nb_insecticides'] = pesticides_df.apply(nb_pesticides, args = insecticides, axis = 1)\n",
    "pesticides_df['nb_herbicides'] = pesticides_df.apply(nb_pesticides, args = herbicides, axis = 1)"
   ]
  },
  {
   "cell_type": "code",
   "execution_count": null,
   "metadata": {},
   "outputs": [],
   "source": [
    "pesticides_df['mrl_fungicides'] = pesticides_df.apply(lmr_pesticides, args = fungicides, axis = 1)\n",
    "pesticides_df['mrl_insecticides'] = pesticides_df.apply(lmr_pesticides, args = insecticides, axis = 1)\n",
    "pesticides_df['mrl_herbicides'] = pesticides_df.apply(lmr_pesticides, args = herbicides, axis = 1)"
   ]
  },
  {
   "cell_type": "code",
   "execution_count": null,
   "metadata": {},
   "outputs": [],
   "source": [
    "pesticides_df.head(10)"
   ]
  },
  {
   "cell_type": "code",
   "execution_count": null,
   "metadata": {},
   "outputs": [],
   "source": [
    "pesticides_df['year'] = pesticides_df['PERIOD'].apply(lambda x: x[:4])\n",
    "pesticides_df['trimester'] = pesticides_df['PERIOD'].apply(lambda x: x[-1:])\n",
    "pesticides_df.sample(10)"
   ]
  },
  {
   "cell_type": "markdown",
   "metadata": {},
   "source": [
    "##### Alternate (smaller) dataset for pesticides"
   ]
  },
  {
   "cell_type": "code",
   "execution_count": null,
   "metadata": {},
   "outputs": [],
   "source": [
    "pesti_names = pesticides_df.columns.to_list()[1:-11]"
   ]
  },
  {
   "cell_type": "code",
   "execution_count": null,
   "metadata": {},
   "outputs": [],
   "source": [
    "small_pesticides_df = pesticides_df.drop(pesti_names, axis=1)\n",
    "small_pesticides_df.head(5)"
   ]
  },
  {
   "cell_type": "markdown",
   "metadata": {},
   "source": [
    "##### Alternate (group by) dataset for pesticides"
   ]
  },
  {
   "cell_type": "code",
   "execution_count": null,
   "metadata": {},
   "outputs": [],
   "source": [
    "group_pesti_df = pesticides_df.groupby('REF....SUBSTANCE').agg(max)"
   ]
  },
  {
   "cell_type": "code",
   "execution_count": null,
   "metadata": {},
   "outputs": [],
   "source": [
    "group_pesti_df = group_pesti_df.loc[:,'mrl_fungicides' : 'mrl_herbicides']\n",
    "group_pesti_df.sample(10)"
   ]
  },
  {
   "cell_type": "markdown",
   "metadata": {},
   "source": [
    "##### Alternate df, with categorical"
   ]
  },
  {
   "cell_type": "code",
   "execution_count": null,
   "metadata": {},
   "outputs": [],
   "source": [
    "cat_pesti_df = group_pesti_df.copy(deep=True)"
   ]
  },
  {
   "cell_type": "code",
   "execution_count": null,
   "metadata": {},
   "outputs": [],
   "source": [
    "cat_pesti_df['cat'] = cat_pesti_df.apply(lambda x: (str(x['mrl_fungicides']) + \n",
    "                                                    str(x['mrl_insecticides']) + \n",
    "                                                    str(x['mrl_herbicides']))  , axis=1)"
   ]
  },
  {
   "cell_type": "code",
   "execution_count": null,
   "metadata": {},
   "outputs": [],
   "source": [
    "cat_pesti_df.sample(10)"
   ]
  },
  {
   "cell_type": "code",
   "execution_count": null,
   "metadata": {},
   "outputs": [],
   "source": [
    "cat_pesti_df['cat'] = cat_pesti_df['cat'].astype('category')\n",
    "cat_pesti_df['cat_label'] = cat_pesti_df['cat'].cat.codes"
   ]
  },
  {
   "cell_type": "code",
   "execution_count": null,
   "metadata": {},
   "outputs": [],
   "source": [
    "labels = cat_pesti_df.set_index('cat_label')['cat'].to_dict()\n",
    "labels"
   ]
  },
  {
   "cell_type": "code",
   "execution_count": null,
   "metadata": {},
   "outputs": [],
   "source": [
    "cat_pesti_df = cat_pesti_df.drop(columns=['mrl_fungicides', \n",
    "                                          'mrl_insecticides', \n",
    "                                          'mrl_herbicides', \n",
    "                                          'cat'])"
   ]
  },
  {
   "cell_type": "code",
   "execution_count": null,
   "metadata": {},
   "outputs": [],
   "source": [
    "cat_pesti_df.sample(10)"
   ]
  },
  {
   "cell_type": "markdown",
   "metadata": {},
   "source": [
    "### Sites"
   ]
  },
  {
   "cell_type": "markdown",
   "metadata": {},
   "source": [
    "##### Getting the area for each zone"
   ]
  },
  {
   "cell_type": "code",
   "execution_count": null,
   "metadata": {},
   "outputs": [],
   "source": [
    "distances_df.head(5)"
   ]
  },
  {
   "cell_type": "code",
   "execution_count": null,
   "metadata": {},
   "outputs": [],
   "source": [
    "surfaces_df.head(5)"
   ]
  },
  {
   "cell_type": "code",
   "execution_count": null,
   "metadata": {},
   "outputs": [],
   "source": [
    "# surfaces_df['country'] = surfaces_df['Site'].apply(lambda x: 'FR' if x.startswith('F') else 'BE')\n",
    "# surfaces_df['country'].value_counts()"
   ]
  },
  {
   "cell_type": "code",
   "execution_count": null,
   "metadata": {},
   "outputs": [],
   "source": [
    "sites_df = distances_df.copy(deep=True)"
   ]
  },
  {
   "cell_type": "code",
   "execution_count": null,
   "metadata": {},
   "outputs": [],
   "source": [
    "sites_df['surface'] = sites_df.apply(get_surface, axis = 1)"
   ]
  },
  {
   "cell_type": "code",
   "execution_count": null,
   "metadata": {},
   "outputs": [],
   "source": [
    "sites_df.sample(10)"
   ]
  },
  {
   "cell_type": "code",
   "execution_count": null,
   "metadata": {},
   "outputs": [],
   "source": [
    "sites_df['country'] = sites_df['polyID'].apply(lambda x: 'FR' if x.startswith('FR') else 'BE')\n",
    "sites_df.sample(10)"
   ]
  },
  {
   "cell_type": "code",
   "execution_count": null,
   "metadata": {},
   "outputs": [],
   "source": [
    "sites_df['country'].value_counts()"
   ]
  },
  {
   "cell_type": "code",
   "execution_count": null,
   "metadata": {},
   "outputs": [],
   "source": [
    "sites_df = sites_df.drop(['polyID'], axis=1)\n",
    "sites_df.sample(5)"
   ]
  },
  {
   "cell_type": "markdown",
   "metadata": {},
   "source": [
    "##### Get one dataset with : beehives and area/distance for each zone"
   ]
  },
  {
   "cell_type": "code",
   "execution_count": null,
   "metadata": {},
   "outputs": [],
   "source": [
    "surfaces_df"
   ]
  },
  {
   "cell_type": "code",
   "execution_count": null,
   "metadata": {},
   "outputs": [],
   "source": [
    "classCLC = surfaces_df.columns.to_list()[1:]"
   ]
  },
  {
   "cell_type": "code",
   "execution_count": null,
   "metadata": {},
   "outputs": [],
   "source": [
    "by_sites_df = surfaces_df.copy(deep=True)\n",
    "by_sites_df"
   ]
  },
  {
   "cell_type": "code",
   "execution_count": null,
   "metadata": {},
   "outputs": [],
   "source": [
    "for CLC in classCLC:\n",
    "    by_sites_df[CLC] = by_sites_df.apply(distance_area, args = (CLC,), axis = 1)"
   ]
  },
  {
   "cell_type": "code",
   "execution_count": null,
   "metadata": {},
   "outputs": [],
   "source": [
    "by_sites_df"
   ]
  },
  {
   "cell_type": "markdown",
   "metadata": {},
   "source": [
    "check if correct"
   ]
  },
  {
   "cell_type": "code",
   "execution_count": null,
   "metadata": {},
   "outputs": [],
   "source": [
    "distance = distances_df[(distances_df['Site'] == 'F0023') & \n",
    "                        (distances_df['classCLC'] == 512)]['dist'].values\n",
    "distance"
   ]
  },
  {
   "cell_type": "code",
   "execution_count": null,
   "metadata": {},
   "outputs": [],
   "source": [
    "area = surfaces_df[surfaces_df['Site'] == 'F0023']['512'].values[0]\n",
    "area"
   ]
  },
  {
   "cell_type": "code",
   "execution_count": null,
   "metadata": {},
   "outputs": [],
   "source": [
    "area/distance[0]"
   ]
  },
  {
   "cell_type": "markdown",
   "metadata": {},
   "source": [
    "##### Drop some colomns that don't contain data"
   ]
  },
  {
   "cell_type": "code",
   "execution_count": null,
   "metadata": {},
   "outputs": [],
   "source": [
    "by_sites_df = by_sites_df.drop(['132','212','213','222', '223', '241', '244',\n",
    "              '321', '323', '332', '333', '334', '335', '411',\n",
    "              '421', '422', '521', '522', '523'], axis=1)"
   ]
  },
  {
   "cell_type": "markdown",
   "metadata": {},
   "source": [
    "### Merging the datasets into two"
   ]
  },
  {
   "cell_type": "markdown",
   "metadata": {},
   "source": [
    "3 datasets to 2 : sites + (heavy metal || pesticides)"
   ]
  },
  {
   "cell_type": "markdown",
   "metadata": {},
   "source": [
    "##### Heavy Metal"
   ]
  },
  {
   "cell_type": "code",
   "execution_count": null,
   "metadata": {},
   "outputs": [],
   "source": [
    "hm_df.sample(5)"
   ]
  },
  {
   "cell_type": "code",
   "execution_count": null,
   "metadata": {},
   "outputs": [],
   "source": [
    "group_hm_df.sample(5)"
   ]
  },
  {
   "cell_type": "code",
   "execution_count": null,
   "metadata": {},
   "outputs": [],
   "source": [
    "cat_hm_df.sample(5)"
   ]
  },
  {
   "cell_type": "markdown",
   "metadata": {},
   "source": [
    "##### Pesticides"
   ]
  },
  {
   "cell_type": "markdown",
   "metadata": {},
   "source": [
    "full"
   ]
  },
  {
   "cell_type": "code",
   "execution_count": null,
   "metadata": {},
   "outputs": [],
   "source": [
    "pesticides_df.sample(5)"
   ]
  },
  {
   "cell_type": "code",
   "execution_count": null,
   "metadata": {},
   "outputs": [],
   "source": [
    "small_pesticides_df.sample(5)"
   ]
  },
  {
   "cell_type": "code",
   "execution_count": null,
   "metadata": {},
   "outputs": [],
   "source": [
    "group_pesti_df.sample(5)"
   ]
  },
  {
   "cell_type": "code",
   "execution_count": null,
   "metadata": {},
   "outputs": [],
   "source": [
    "cat_pesti_df.sample(5)"
   ]
  },
  {
   "cell_type": "markdown",
   "metadata": {},
   "source": [
    "##### sites"
   ]
  },
  {
   "cell_type": "code",
   "execution_count": null,
   "metadata": {},
   "outputs": [],
   "source": [
    "sites_df.sample(5)"
   ]
  },
  {
   "cell_type": "code",
   "execution_count": null,
   "metadata": {},
   "outputs": [],
   "source": [
    "by_sites_df.sample(5)"
   ]
  },
  {
   "cell_type": "markdown",
   "metadata": {},
   "source": [
    "##### Merge HM"
   ]
  },
  {
   "cell_type": "code",
   "execution_count": null,
   "metadata": {},
   "outputs": [],
   "source": [
    "cat_hm_df.index.name"
   ]
  },
  {
   "cell_type": "code",
   "execution_count": null,
   "metadata": {},
   "outputs": [],
   "source": [
    "cat_hm_df = cat_hm_df.reset_index()"
   ]
  },
  {
   "cell_type": "code",
   "execution_count": null,
   "metadata": {},
   "outputs": [],
   "source": [
    "cat_hm_df = cat_hm_df.rename(columns={\"REF....SUBSTANCE\": \"Site\"})"
   ]
  },
  {
   "cell_type": "code",
   "execution_count": null,
   "metadata": {},
   "outputs": [],
   "source": [
    "cat_hm_df.head(3)"
   ]
  },
  {
   "cell_type": "code",
   "execution_count": null,
   "metadata": {},
   "outputs": [],
   "source": [
    "by_sites_df.head(3)"
   ]
  },
  {
   "cell_type": "code",
   "execution_count": null,
   "metadata": {},
   "outputs": [],
   "source": [
    "merged_hm = pd.merge(by_sites_df, cat_hm_df, on=[\"Site\"])"
   ]
  },
  {
   "cell_type": "code",
   "execution_count": null,
   "metadata": {},
   "outputs": [],
   "source": [
    "merged_hm.sample(5)"
   ]
  },
  {
   "cell_type": "code",
   "execution_count": null,
   "metadata": {},
   "outputs": [],
   "source": [
    "merged_hm.shape"
   ]
  },
  {
   "cell_type": "markdown",
   "metadata": {},
   "source": [
    "#### Merge Pesticides"
   ]
  },
  {
   "cell_type": "code",
   "execution_count": null,
   "metadata": {},
   "outputs": [],
   "source": [
    "cat_pesti_df.index.name"
   ]
  },
  {
   "cell_type": "code",
   "execution_count": null,
   "metadata": {},
   "outputs": [],
   "source": [
    "cat_pesti_df = cat_pesti_df.reset_index()"
   ]
  },
  {
   "cell_type": "code",
   "execution_count": null,
   "metadata": {},
   "outputs": [],
   "source": [
    "cat_pesti_df = cat_pesti_df.rename(columns={\"REF....SUBSTANCE\": \"Site\"})"
   ]
  },
  {
   "cell_type": "code",
   "execution_count": null,
   "metadata": {},
   "outputs": [],
   "source": [
    "cat_pesti_df.head(3)"
   ]
  },
  {
   "cell_type": "code",
   "execution_count": null,
   "metadata": {},
   "outputs": [],
   "source": [
    "by_sites_df.head(3)"
   ]
  },
  {
   "cell_type": "code",
   "execution_count": null,
   "metadata": {},
   "outputs": [],
   "source": [
    "merged_pesti = pd.merge(by_sites_df, cat_pesti_df, on=[\"Site\"])"
   ]
  },
  {
   "cell_type": "code",
   "execution_count": null,
   "metadata": {},
   "outputs": [],
   "source": [
    "merged_pesti.sample(5)"
   ]
  },
  {
   "cell_type": "code",
   "execution_count": null,
   "metadata": {},
   "outputs": [],
   "source": [
    "merged_pesti.shape"
   ]
  },
  {
   "cell_type": "markdown",
   "metadata": {},
   "source": [
    "##### Merge All"
   ]
  },
  {
   "cell_type": "code",
   "execution_count": null,
   "metadata": {},
   "outputs": [],
   "source": [
    "group_hm_df.index.name"
   ]
  },
  {
   "cell_type": "code",
   "execution_count": null,
   "metadata": {},
   "outputs": [],
   "source": [
    "group_pesti_df.index.name"
   ]
  },
  {
   "cell_type": "code",
   "execution_count": null,
   "metadata": {},
   "outputs": [],
   "source": [
    "group_hm_df = group_hm_df.reset_index()\n",
    "group_pesti_df = group_pesti_df.reset_index()"
   ]
  },
  {
   "cell_type": "code",
   "execution_count": null,
   "metadata": {},
   "outputs": [],
   "source": [
    "group_hm_df = group_hm_df.rename(columns={\"REF....SUBSTANCE\": \"Site\"})\n",
    "group_pesti_df = group_pesti_df.rename(columns={\"REF....SUBSTANCE\": \"Site\"})"
   ]
  },
  {
   "cell_type": "code",
   "execution_count": null,
   "metadata": {},
   "outputs": [],
   "source": [
    "by_sites_df.head(3)"
   ]
  },
  {
   "cell_type": "code",
   "execution_count": null,
   "metadata": {},
   "outputs": [],
   "source": [
    "group_hm_df.head(3)"
   ]
  },
  {
   "cell_type": "code",
   "execution_count": null,
   "metadata": {},
   "outputs": [],
   "source": [
    "group_pesti_df.head(3)"
   ]
  },
  {
   "cell_type": "code",
   "execution_count": null,
   "metadata": {},
   "outputs": [],
   "source": [
    "cat_hm_df = cat_hm_df.rename(columns={\"cat_label\": \"hm_cat_label\"})\n",
    "cat_hm_df.head(3)"
   ]
  },
  {
   "cell_type": "code",
   "execution_count": null,
   "metadata": {},
   "outputs": [],
   "source": [
    "cat_pesti_df = cat_pesti_df.rename(columns={\"cat_label\": \"pesti_cat_label\"})\n",
    "cat_pesti_df.head(3)"
   ]
  },
  {
   "cell_type": "code",
   "execution_count": null,
   "metadata": {},
   "outputs": [],
   "source": [
    "merged_all = pd.merge(by_sites_df, group_hm_df, on=[\"Site\"])\n",
    "merged_all = pd.merge(merged_all, cat_hm_df, on=[\"Site\"])\n",
    "merged_all = pd.merge(merged_all, group_pesti_df, on=[\"Site\"])\n",
    "merged_all = pd.merge(merged_all, cat_pesti_df, on=[\"Site\"])"
   ]
  },
  {
   "cell_type": "code",
   "execution_count": null,
   "metadata": {},
   "outputs": [],
   "source": [
    "merged_all.shape"
   ]
  },
  {
   "cell_type": "markdown",
   "metadata": {},
   "source": [
    "### Final Cleaning"
   ]
  },
  {
   "cell_type": "markdown",
   "metadata": {},
   "source": [
    "##### HM"
   ]
  },
  {
   "cell_type": "code",
   "execution_count": null,
   "metadata": {},
   "outputs": [],
   "source": [
    "merged_hm = merged_hm.drop(['Site'], axis=1)"
   ]
  },
  {
   "cell_type": "code",
   "execution_count": null,
   "metadata": {},
   "outputs": [],
   "source": [
    "merged_pesti.sample(5)"
   ]
  },
  {
   "cell_type": "code",
   "execution_count": null,
   "metadata": {},
   "outputs": [],
   "source": [
    "merged_hm.to_csv('merged_hm.csv')"
   ]
  },
  {
   "cell_type": "markdown",
   "metadata": {},
   "source": [
    "##### Pesticides"
   ]
  },
  {
   "cell_type": "code",
   "execution_count": null,
   "metadata": {},
   "outputs": [],
   "source": [
    "merged_pesti = merged_pesti.drop(['Site'], axis=1)"
   ]
  },
  {
   "cell_type": "code",
   "execution_count": null,
   "metadata": {},
   "outputs": [],
   "source": [
    "merged_pesti.sample(5)"
   ]
  },
  {
   "cell_type": "code",
   "execution_count": null,
   "metadata": {},
   "outputs": [],
   "source": [
    "merged_pesti.to_csv('merged_pesti.csv')"
   ]
  },
  {
   "cell_type": "markdown",
   "metadata": {},
   "source": [
    "##### All"
   ]
  },
  {
   "cell_type": "code",
   "execution_count": null,
   "metadata": {},
   "outputs": [],
   "source": [
    "merged_all = merged_all.drop(['Site'], axis=1)"
   ]
  },
  {
   "cell_type": "code",
   "execution_count": null,
   "metadata": {},
   "outputs": [],
   "source": [
    "merged_all.sample(5)"
   ]
  },
  {
   "cell_type": "code",
   "execution_count": null,
   "metadata": {},
   "outputs": [],
   "source": [
    "merged_all.to_csv('merged_all.csv')"
   ]
  },
  {
   "cell_type": "markdown",
   "metadata": {},
   "source": [
    "# Questions to ask"
   ]
  },
  {
   "cell_type": "markdown",
   "metadata": {},
   "source": [
    "- When NaN => information irrelevant or not analysed?\n",
    "- Difference France/Belgium?\n",
    "- Is the fact that an insecticide is unauthorized relevant? (=> not the same law in France/Belgium)\n",
    "- Or do we have to show that even banned pesticides are still found?\n",
    "- How do we treat other categorical pesticides?\n",
    "- How to increase the number of datas?"
   ]
  },
  {
   "cell_type": "markdown",
   "metadata": {},
   "source": [
    "### Bo-bo-bonus"
   ]
  },
  {
   "cell_type": "markdown",
   "metadata": {},
   "source": [
    "- FR  :  36 beehives for 335 zones\n",
    "- BE  :  27 beehives for 297 zones"
   ]
  },
  {
   "cell_type": "markdown",
   "metadata": {},
   "source": [
    "Here the CLC zone are left separate, could group some to test"
   ]
  },
  {
   "cell_type": "code",
   "execution_count": null,
   "metadata": {},
   "outputs": [],
   "source": []
  }
 ],
 "metadata": {
  "kernelspec": {
   "display_name": "Python 3",
   "language": "python",
   "name": "python3"
  },
  "language_info": {
   "codemirror_mode": {
    "name": "ipython",
    "version": 3
   },
   "file_extension": ".py",
   "mimetype": "text/x-python",
   "name": "python",
   "nbconvert_exporter": "python",
   "pygments_lexer": "ipython3",
   "version": "3.8.6"
  }
 },
 "nbformat": 4,
 "nbformat_minor": 4
}
